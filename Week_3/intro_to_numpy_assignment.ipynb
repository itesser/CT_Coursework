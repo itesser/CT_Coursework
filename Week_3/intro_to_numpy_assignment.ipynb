{
  "cells": [
    {
      "attachments": {},
      "cell_type": "markdown",
      "metadata": {
        "id": "ZvNsvUNNlZbi"
      },
      "source": [
        "# Coding Temple's Data Analytics Program  \n",
        "---\n",
        "# Advanced Python - Intro to `numpy`\n",
        "---\n",
        "\n"
      ]
    },
    {
      "attachments": {},
      "cell_type": "markdown",
      "metadata": {
        "id": "xMq6Of2Gt24o"
      },
      "source": [
        "## Part 1: Working with `numpy`\n"
      ]
    },
    {
      "attachments": {},
      "cell_type": "markdown",
      "metadata": {
        "id": "76eJSGb5gwtY"
      },
      "source": [
        "### 1.1 Importing `numpy`\n",
        "\n",
        "We've already used the `numpy` package by importing it and assigning it the standard alias of `np`. Do this again in the following cell - the more you practice typing these lines of code, the easier it will be to remember."
      ]
    },
    {
      "cell_type": "code",
      "execution_count": 2,
      "metadata": {
        "id": "h3r0IvHVuGJb"
      },
      "outputs": [],
      "source": [
        "# Import numpy and assign it the standard alias\n",
        "import numpy as np"
      ]
    },
    {
      "attachments": {},
      "cell_type": "markdown",
      "metadata": {},
      "source": [
        "### 1.1 Solution - Run this cell to check your answer in 1.1. Please do not edit the values in this cell!"
      ]
    },
    {
      "cell_type": "code",
      "execution_count": 3,
      "metadata": {},
      "outputs": [],
      "source": [
        "# DO NOT EDIT THIS CELL\n",
        "assert np.__name__ == 'numpy', 'Make sure that you have properly imported numpy and aliased it as np!'"
      ]
    },
    {
      "attachments": {},
      "cell_type": "markdown",
      "metadata": {
        "id": "DvYie7qokbDH"
      },
      "source": [
        "### 1.2 Generate random numbers\n",
        "\n",
        "Create a `(5,3)` `numpy` array of random integer values between 0 and 100.\n",
        "\n",
        "Use the the `random()` method in numpy to generate these integers. Name your new variable `myarray`. You should also print the array to check it's dimensions and values."
      ]
    },
    {
      "cell_type": "code",
      "execution_count": 4,
      "metadata": {
        "colab": {
          "base_uri": "https://localhost:8080/"
        },
        "id": "UNJo_50VktRs",
        "outputId": "201f35e8-cd05-451c-aee4-de9b6e2ad93c"
      },
      "outputs": [
        {
          "name": "stdout",
          "output_type": "stream",
          "text": [
            "[[4.17022005e-01 7.20324493e-01 1.14374817e-04]\n",
            " [3.02332573e-01 1.46755891e-01 9.23385948e-02]\n",
            " [1.86260211e-01 3.45560727e-01 3.96767474e-01]\n",
            " [5.38816734e-01 4.19194514e-01 6.85219500e-01]\n",
            " [2.04452250e-01 8.78117436e-01 2.73875932e-02]]\n"
          ]
        }
      ],
      "source": [
        "# Generate your random numbers\n",
        "np.random.seed(1) #Seed generated for reproducibility\n",
        "\n",
        "myarray = np.random.random((5,3))\n",
        "\n",
        "# Print out the array\n",
        "print(myarray)"
      ]
    },
    {
      "attachments": {},
      "cell_type": "markdown",
      "metadata": {},
      "source": [
        "### 1.2 Solution - Run the following cell to check your answer."
      ]
    },
    {
      "cell_type": "code",
      "execution_count": null,
      "metadata": {},
      "outputs": [],
      "source": [
        "#DO NOT EDIT THIS CELL\n",
        "\n",
        "#Verify the array was created with the correct name and has the proper shape\n",
        "assert myarray.shape == (5,3), 'Make sure you create an array with the proper shape!'"
      ]
    },
    {
      "attachments": {},
      "cell_type": "markdown",
      "metadata": {},
      "source": [
        "### 1.3 Calculate BMI \n",
        "\n",
        "Using the two lists provided, please calculate the BMI(body mass index) of each individual using NDArrays. Save the variable containing your results as `bmi`\n",
        "\n",
        "The formula for BMI in pounds and inches can be defined as: $BMI= \\frac{703 * weight} {(height)^2}$"
      ]
    },
    {
      "cell_type": "code",
      "execution_count": 3,
      "metadata": {},
      "outputs": [],
      "source": [
        "height = [55, 120, 90, 100]\n",
        "weight = [170, 180, 190, 200]\n",
        "\n",
        "np_height = np.array(height)\n",
        "np_weight = np.array(weight)\n",
        "\n",
        "bmi = (703 * np_weight)/(np_height**2)"
      ]
    },
    {
      "attachments": {},
      "cell_type": "markdown",
      "metadata": {},
      "source": [
        "### 1.3 Solution: Run the following cell to check your answer."
      ]
    },
    {
      "cell_type": "code",
      "execution_count": 4,
      "metadata": {},
      "outputs": [],
      "source": [
        "assert 'bmi' in dir() , 'Make sure you have saved your results to the proper variable name!'\n",
        "assert type(bmi) == np.ndarray, 'Make sure that you made the calculation using an NDArray for both height and weight!'"
      ]
    },
    {
      "attachments": {},
      "cell_type": "markdown",
      "metadata": {},
      "source": [
        "### 1.4 Create a function \n",
        "\n",
        "Create a function named `my_func` that will take in two parameters and will create a random matrix based off of those parameters. Extra: Have additional parameters taken in that allow the user to choose the shape and data type of the matrix."
      ]
    },
    {
      "cell_type": "code",
      "execution_count": 8,
      "metadata": {},
      "outputs": [
        {
          "name": "stdout",
          "output_type": "stream",
          "text": [
            "[[ 6  8]\n",
            " [ 3  8]\n",
            " [ 9 12]]\n",
            "[[20  5  7  9 12]\n",
            " [ 8  4 17  2  5]\n",
            " [18  9 16 23  7]\n",
            " [19  9  3 14  7]\n",
            " [16 24 17 14  4]\n",
            " [ 8 12 20 24  9]\n",
            " [ 5 22 15 21  3]\n",
            " [ 5 15  4 22  3]\n",
            " [12 11 23 21  4]\n",
            " [13 10 18 22  9]]\n"
          ]
        }
      ],
      "source": [
        "def my_funct(min, max, shape = (6,3), type = int):\n",
        "    return np.random.randint(min, max, shape, type)\n",
        "\n",
        "print(my_funct(0,15, (3,2)))\n",
        "\n",
        "RA = my_funct(2,25,(10, 5))\n",
        "\n",
        "print(RA)"
      ]
    },
    {
      "attachments": {},
      "cell_type": "markdown",
      "metadata": {
        "id": "CYy4Zp5pk7tS"
      },
      "source": [
        "### 1.5 Array practice\n",
        "\n",
        "Time for some more practice. Run each of these tasks in the separate code cell listed below:\n",
        "\n",
        "1.  Return the first row\n",
        "2.  Return the last column\n",
        "3.  Return the third column values from the 4th and 5th rows\n",
        "4.  Multiply every value in the array by 2\n",
        "5.  Divide every value by 3\n",
        "6.  Increase the values in the first row by 12\n",
        "7. Calculate the mean of the first column\n",
        "8. Calculate the median of the array _after_ removing the 2 smallest values in the array\n",
        "9. Calculate the standard deviation of the first 3 rows\n",
        "10. Return values greater than 25 in the second column\n",
        "11. Return values less than 40 in the array"
      ]
    },
    {
      "cell_type": "code",
      "execution_count": 9,
      "metadata": {
        "colab": {
          "base_uri": "https://localhost:8080/"
        },
        "id": "lIxLoTfGl910",
        "outputId": "126ce770-41b6-42ab-eab5-26071a027979"
      },
      "outputs": [
        {
          "data": {
            "text/plain": [
              "array([20,  5,  7,  9, 12])"
            ]
          },
          "execution_count": 9,
          "metadata": {},
          "output_type": "execute_result"
        }
      ],
      "source": [
        "# 1. Return the first row:\n",
        "\n",
        "RA[0,:]\n"
      ]
    },
    {
      "cell_type": "code",
      "execution_count": 10,
      "metadata": {
        "colab": {
          "base_uri": "https://localhost:8080/"
        },
        "id": "lMafok6zoGB-",
        "outputId": "df874775-ac9e-42de-c305-fd7e13afc98b"
      },
      "outputs": [
        {
          "data": {
            "text/plain": [
              "array([13, 10, 18, 22,  9])"
            ]
          },
          "execution_count": 10,
          "metadata": {},
          "output_type": "execute_result"
        }
      ],
      "source": [
        "# 2. Return the last column\n",
        "\n",
        "RA[-1,:]\n"
      ]
    },
    {
      "cell_type": "code",
      "execution_count": 11,
      "metadata": {
        "colab": {
          "base_uri": "https://localhost:8080/"
        },
        "id": "TEpRarEbobjz",
        "outputId": "0adb6634-385c-47a4-f01e-1b8add2518d1"
      },
      "outputs": [
        {
          "data": {
            "text/plain": [
              "array([ 3, 17])"
            ]
          },
          "execution_count": 11,
          "metadata": {},
          "output_type": "execute_result"
        }
      ],
      "source": [
        "# 3. Return the third column values from the 4th and 5th rows\n",
        "\n",
        "RA[3:5, 2]"
      ]
    },
    {
      "cell_type": "code",
      "execution_count": 12,
      "metadata": {
        "colab": {
          "base_uri": "https://localhost:8080/"
        },
        "id": "6nR51YtPpdKo",
        "outputId": "244aec23-e37a-4bca-d8fb-43b3744f3c4d"
      },
      "outputs": [
        {
          "data": {
            "text/plain": [
              "array([[40, 10, 14, 18, 24],\n",
              "       [16,  8, 34,  4, 10],\n",
              "       [36, 18, 32, 46, 14],\n",
              "       [38, 18,  6, 28, 14],\n",
              "       [32, 48, 34, 28,  8],\n",
              "       [16, 24, 40, 48, 18],\n",
              "       [10, 44, 30, 42,  6],\n",
              "       [10, 30,  8, 44,  6],\n",
              "       [24, 22, 46, 42,  8],\n",
              "       [26, 20, 36, 44, 18]])"
            ]
          },
          "execution_count": 12,
          "metadata": {},
          "output_type": "execute_result"
        }
      ],
      "source": [
        "# 4. Multiply every value in the array by 2\n",
        "RA*2\n"
      ]
    },
    {
      "cell_type": "code",
      "execution_count": 13,
      "metadata": {
        "colab": {
          "base_uri": "https://localhost:8080/"
        },
        "id": "6Nr8BqCVpfr1",
        "outputId": "a3616032-2853-41a8-c941-b5a8be43f70f"
      },
      "outputs": [
        {
          "data": {
            "text/plain": [
              "array([[6.66666667, 1.66666667, 2.33333333, 3.        , 4.        ],\n",
              "       [2.66666667, 1.33333333, 5.66666667, 0.66666667, 1.66666667],\n",
              "       [6.        , 3.        , 5.33333333, 7.66666667, 2.33333333],\n",
              "       [6.33333333, 3.        , 1.        , 4.66666667, 2.33333333],\n",
              "       [5.33333333, 8.        , 5.66666667, 4.66666667, 1.33333333],\n",
              "       [2.66666667, 4.        , 6.66666667, 8.        , 3.        ],\n",
              "       [1.66666667, 7.33333333, 5.        , 7.        , 1.        ],\n",
              "       [1.66666667, 5.        , 1.33333333, 7.33333333, 1.        ],\n",
              "       [4.        , 3.66666667, 7.66666667, 7.        , 1.33333333],\n",
              "       [4.33333333, 3.33333333, 6.        , 7.33333333, 3.        ]])"
            ]
          },
          "execution_count": 13,
          "metadata": {},
          "output_type": "execute_result"
        }
      ],
      "source": [
        "# 5. Divide every value by 3\n",
        "RA/3"
      ]
    },
    {
      "cell_type": "code",
      "execution_count": 16,
      "metadata": {
        "colab": {
          "base_uri": "https://localhost:8080/"
        },
        "id": "5ejUOn2gptcV",
        "outputId": "921e3aab-2cf7-4a46-8581-5fdb1fb69da1"
      },
      "outputs": [
        {
          "name": "stdout",
          "output_type": "stream",
          "text": [
            "[[44 29 31 33 36]\n",
            " [ 8  4 17  2  5]\n",
            " [18  9 16 23  7]\n",
            " [19  9  3 14  7]\n",
            " [16 24 17 14  4]\n",
            " [ 8 12 20 24  9]\n",
            " [ 5 22 15 21  3]\n",
            " [ 5 15  4 22  3]\n",
            " [12 11 23 21  4]\n",
            " [13 10 18 22  9]]\n"
          ]
        }
      ],
      "source": [
        "# 6. Increase the values in the first row by 12\n",
        "RA[0,:] += 12\n",
        "\n",
        "print(RA)"
      ]
    },
    {
      "cell_type": "code",
      "execution_count": 20,
      "metadata": {
        "colab": {
          "base_uri": "https://localhost:8080/"
        },
        "id": "o-q-n6rzpunI",
        "outputId": "0783e4fc-2bc5-4480-e62d-90fdd33c73e2"
      },
      "outputs": [
        {
          "name": "stdout",
          "output_type": "stream",
          "text": [
            "14.8\n"
          ]
        },
        {
          "data": {
            "text/plain": [
              "14.8"
            ]
          },
          "execution_count": 20,
          "metadata": {},
          "output_type": "execute_result"
        }
      ],
      "source": [
        "# 7. Calculate the mean of the first column\n",
        "np.mean(RA[:,0])\n"
      ]
    },
    {
      "cell_type": "code",
      "execution_count": 51,
      "metadata": {
        "colab": {
          "base_uri": "https://localhost:8080/"
        },
        "id": "izVdnwnLpuuY",
        "outputId": "11965467-d665-416e-a4ec-883745aa668f"
      },
      "outputs": [
        {
          "data": {
            "text/plain": [
              "13.5"
            ]
          },
          "execution_count": 51,
          "metadata": {},
          "output_type": "execute_result"
        }
      ],
      "source": [
        "# 8. Calculate the median of the array after removing the 2 smallest values in the array\n",
        "\n",
        "np.median(np.sort(RA.flatten())[:-2])\n"
      ]
    },
    {
      "cell_type": "code",
      "execution_count": 52,
      "metadata": {
        "colab": {
          "base_uri": "https://localhost:8080/"
        },
        "id": "1WCDKp2xrzK9",
        "outputId": "74aca405-d2d6-4ec6-e983-a438a8aec81f"
      },
      "outputs": [
        {
          "data": {
            "text/plain": [
              "14.421242048527658"
            ]
          },
          "execution_count": 52,
          "metadata": {},
          "output_type": "execute_result"
        }
      ],
      "source": [
        "# 9. Calculate the standard deviation of the first 3 rows\n",
        "# Generate a new array to work on\n",
        "np.random.seed(2) # New seed for new array\n",
        "\n",
        "NA = np.random.randint(5, 65, (8, 6))\n",
        "\n",
        "np.std(NA[:3,:])\n",
        "\n"
      ]
    },
    {
      "cell_type": "code",
      "execution_count": 48,
      "metadata": {
        "colab": {
          "base_uri": "https://localhost:8080/"
        },
        "id": "zb7aXd3xry3r",
        "outputId": "e6f81b8a-1cb1-4c9f-a734-a8471a8f7961"
      },
      "outputs": [
        {
          "data": {
            "text/plain": [
              "array([57, 47, 38, 51])"
            ]
          },
          "execution_count": 48,
          "metadata": {},
          "output_type": "execute_result"
        }
      ],
      "source": [
        "# 10. Return values in the second column greater than 25\n",
        "\n",
        "\n",
        "NA[:,1][NA[:,1] > 25]"
      ]
    },
    {
      "cell_type": "code",
      "execution_count": 46,
      "metadata": {
        "colab": {
          "base_uri": "https://localhost:8080/"
        },
        "id": "IZ8HYk95ocDE",
        "outputId": "8d047861-9abd-4138-ce5c-366821ca933c"
      },
      "outputs": [
        {
          "data": {
            "text/plain": [
              "array([20, 13, 27, 23, 16, 12, 39, 36, 16, 26, 36, 31, 25,  8,  9, 38,  8,\n",
              "       10, 29,  9, 11, 36, 24, 36,  7, 21, 17])"
            ]
          },
          "execution_count": 46,
          "metadata": {},
          "output_type": "execute_result"
        }
      ],
      "source": [
        "# 11. Return values < 40 in the array\n",
        "NA[NA < 40]"
      ]
    },
    {
      "cell_type": "code",
      "execution_count": null,
      "metadata": {},
      "outputs": [],
      "source": []
    },
    {
      "attachments": {},
      "cell_type": "markdown",
      "metadata": {
        "id": "6Xwf9ZDLX_xp"
      },
      "source": [
        "### Solution 1.5: Run the following cell to view the solution for each of the above tasks.\n",
        "\n",
        "A new array will be generated to demonstrate the solution - the values will not be the same as your array. But the code for each task will still apply."
      ]
    },
    {
      "cell_type": "code",
      "execution_count": 53,
      "metadata": {
        "colab": {
          "base_uri": "https://localhost:8080/"
        },
        "id": "15P0nIbqY8vi",
        "outputId": "f0aa2414-b800-48de-c300-d3763e4eb9fc"
      },
      "outputs": [
        {
          "name": "stdout",
          "output_type": "stream",
          "text": [
            "The generated array: \n",
            " [[50  4 90]\n",
            " [63 79 49]\n",
            " [39 46  8]\n",
            " [50 15  8]\n",
            " [17 22 73]]\n",
            "\n",
            "\n",
            "1. The first row:  [50  4 90]\n",
            "\n",
            "\n",
            "2. The last column:  [90 49  8  8 73]\n",
            "\n",
            "\n",
            "3. The 3rd column, 4th & 5th rows:  [ 8 73]\n",
            "\n",
            "\n",
            "4. Multiply by 2: \n",
            " [[100   8 180]\n",
            " [126 158  98]\n",
            " [ 78  92  16]\n",
            " [100  30  16]\n",
            " [ 34  44 146]]\n",
            "\n",
            "\n",
            "5. Divide by 3: \n",
            " [[16.66666667  1.33333333 30.        ]\n",
            " [21.         26.33333333 16.33333333]\n",
            " [13.         15.33333333  2.66666667]\n",
            " [16.66666667  5.          2.66666667]\n",
            " [ 5.66666667  7.33333333 24.33333333]]\n",
            "\n",
            "\n",
            "6. Add 12 to the first row: \n",
            " [ 62  16 102]\n",
            "\n",
            "\n",
            "7. The mean of the 1st column:  43.8\n",
            "\n",
            "\n",
            "8. The median after removing the 2 smallest values:  49.0\n",
            "\n",
            "\n",
            "9. The standard deviation is:  28.801148811106582\n",
            "\n",
            "\n",
            "10. All values in 2nd column > 25: \n",
            " [[57 90 62]\n",
            " [83 96 43]\n",
            " [32 26  8]\n",
            " [34 60  9]]\n",
            "\n",
            "\n",
            "11. All values < 40: \n",
            " [32 26  8 10 34  9]\n"
          ]
        }
      ],
      "source": [
        "# DO NOT EDIT THIS CELL\n",
        "# SOLUTION 1.3\n",
        "\n",
        "# SOLUTION: Make sure you have completed all of the above tasks\n",
        "# Generate your random numbers (NEW ARRAY)\n",
        "myarray = np.random.randint(100, size=(5, 3))\n",
        "print('The generated array: \\n', myarray)\n",
        "print('\\n')\n",
        "\n",
        "# 1. Return the first row:\n",
        "print('1. The first row: ', myarray[0])\n",
        "print('\\n')\n",
        "\n",
        "# 2. Return the last column\n",
        "print('2. The last column: ', myarray[:,-1])\n",
        "print('\\n')\n",
        "\n",
        "# 3. Return the third column values from the 4th and 5th rows\n",
        "print('3. The 3rd column, 4th & 5th rows: ', myarray[3:5,2])\n",
        "print('\\n')\n",
        "\n",
        "# 4. Multiply every value in the array by 2\n",
        "# (operates on the original array)\n",
        "print('4. Multiply by 2: \\n', myarray * 2)\n",
        "print('\\n')\n",
        "\n",
        "# 5. Divide every value by 3\n",
        "# (operates on the original array)\n",
        "print('5. Divide by 3: \\n', myarray / 3)\n",
        "print('\\n')\n",
        "\n",
        "# 6. Increase the values in the first row by 12\n",
        "# (operates on the original array)\n",
        "print('6. Add 12 to the first row: \\n', myarray[0,:] + 12)\n",
        "print('\\n')\n",
        "\n",
        "# 7. Calculate the mean of the first column\n",
        "print('7. The mean of the 1st column: ', myarray[:,0].mean())\n",
        "print('\\n')\n",
        "\n",
        "# 8. Calculate the median of the array after removing the 2 smallest values in the array\n",
        "# flatten and sort (axis=None does the flattening)\n",
        "myarray = np.sort(myarray, axis=None)\n",
        "# remove two smallest values\n",
        "myarray = myarray[2:]\n",
        "# calculate the median\n",
        "print('8. The median after removing the 2 smallest values: ', np.median(myarray))\n",
        "print('\\n')\n",
        "\n",
        "# 9. Calculate the standard deviation of the first 3 rows\n",
        "# Generate new array first:\n",
        "myarray = np.random.randint(100, size=(5, 3))\n",
        "# Then calculate the std:\n",
        "print('9. The standard deviation is: ', np.std(myarray[0:3,:]))\n",
        "print('\\n')\n",
        "\n",
        "# 10. Return values in the second column greater than 25\n",
        "# create a Boolean mask where values in the 2nd column > 25 are True\n",
        "condition = myarray[:,1] > 25\n",
        "# Apply the mask\n",
        "print('10. All values in 2nd column > 25: \\n', myarray[condition])\n",
        "print('\\n')\n",
        "\n",
        "# 11. Return values < 40 in the array\n",
        "# create another Boolean mask for values < 40\n",
        "condition = myarray < 40\n",
        "# apply the mask\n",
        "print('11. All values < 40: \\n', myarray[condition])"
      ]
    }
  ],
  "metadata": {
    "colab": {
      "provenance": []
    },
    "kernelspec": {
      "display_name": "Python 3",
      "language": "python",
      "name": "python3"
    },
    "language_info": {
      "codemirror_mode": {
        "name": "ipython",
        "version": 3
      },
      "file_extension": ".py",
      "mimetype": "text/x-python",
      "name": "python",
      "nbconvert_exporter": "python",
      "pygments_lexer": "ipython3",
      "version": "3.11.5"
    },
    "vscode": {
      "interpreter": {
        "hash": "26de051ba29f2982a8de78e945f0abaf191376122a1563185a90213a26c5da77"
      }
    }
  },
  "nbformat": 4,
  "nbformat_minor": 0
}
