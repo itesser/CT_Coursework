{
  "cells": [
    {
      "cell_type": "markdown",
      "metadata": {
        "id": "GrszmuGyHF-o"
      },
      "source": [
        "# Numpy Ladder Challenge - Notebook 2\n",
        "\n",
        "_Author:_ Tim Book & Katie Sylvia"
      ]
    },
    {
      "cell_type": "markdown",
      "metadata": {
        "id": "S2DkgjHhHF-t"
      },
      "source": [
        "# Climb the Ladder!\n",
        "Our class moves quickly! Sometimes, it feels like we make leaps in logic that are a bit too big. In this ladder challenge, we'll learn some core math concepts, some linear algebra, and the `numpy` library. Problems in this notebook start out easy and progressively get harder, so that the next rung of the Python ladder is always within reach.\n",
        "\n",
        "Additionally, since not all of the topics discussed in this ladder challenge are explicitly taught in our course, these problems come with many more hints, tips, suggestions, and even sometimes a mini-lesson. You are encouraged to Google frequently throughout the lesson. In many ways, this ladder is meant to be a challenge as well as educational in its own right.\n",
        "\n",
        "**Remember our one rule: NO LOOPS! None of the exercises in this notebook require a loop. If you use a loop to solve any of these problems, you are solving the problem incorrectly.**"
      ]
    },
    {
      "cell_type": "markdown",
      "metadata": {
        "id": "FHyDlwuNHF-x"
      },
      "source": [
        "0) Import numpy in the usual way"
      ]
    },
    {
      "cell_type": "code",
      "execution_count": null,
      "metadata": {
        "id": "CmFxEbSZHF-y"
      },
      "outputs": [],
      "source": []
    },
    {
      "cell_type": "markdown",
      "metadata": {
        "id": "k_rWwSyTHF-z"
      },
      "source": [
        "# Section III - Simulation\n",
        "In the next section, we'll use functions within the `np.random` submodule. You can find documentation [here](https://docs.scipy.org/doc/numpy-1.14.0/reference/routines.random.html)."
      ]
    },
    {
      "cell_type": "markdown",
      "metadata": {
        "id": "Ax_rznb4HF-0"
      },
      "source": [
        "27) Generate 10,000 random numbers between 0 and 1 and assign them to a variable. To verify you've simulated the data properly, make sure the mean is approximately 0.5."
      ]
    },
    {
      "cell_type": "code",
      "execution_count": null,
      "metadata": {
        "id": "I6mjaJ72HF-0"
      },
      "outputs": [],
      "source": []
    },
    {
      "cell_type": "markdown",
      "metadata": {
        "id": "lt25oZEvHF-1"
      },
      "source": [
        "28) What proportion of these numbers is below 0.1?"
      ]
    },
    {
      "cell_type": "code",
      "execution_count": null,
      "metadata": {
        "id": "SVFj04wWHF-1"
      },
      "outputs": [],
      "source": []
    },
    {
      "cell_type": "markdown",
      "metadata": {
        "id": "KOcrXjCeHF-2"
      },
      "source": [
        "29) What proportion of these numbers is above 0.8?"
      ]
    },
    {
      "cell_type": "code",
      "execution_count": null,
      "metadata": {
        "id": "_n2UjLBHHF-2"
      },
      "outputs": [],
      "source": []
    },
    {
      "cell_type": "markdown",
      "metadata": {
        "id": "lGsZQ3zsHF-3"
      },
      "source": [
        "30) What proportion of these numbers is above 0.2 but below 0.3?"
      ]
    },
    {
      "cell_type": "code",
      "execution_count": null,
      "metadata": {
        "id": "IRpUOBXHHF-3"
      },
      "outputs": [],
      "source": []
    },
    {
      "cell_type": "markdown",
      "metadata": {
        "id": "acxgudlhHF-3"
      },
      "source": [
        "31) Generate 10,000 random numbers between 2 and 4. To verify you've simulated the data properly, find the mean and make sure it is approximately what you expect.\n",
        "\n",
        "* _Hint:_ There is no `numpy` function for this specifically. How can you use the function you just used to generate this?"
      ]
    },
    {
      "cell_type": "code",
      "execution_count": null,
      "metadata": {
        "id": "D7j8CMfdHF-4"
      },
      "outputs": [],
      "source": []
    },
    {
      "cell_type": "markdown",
      "metadata": {
        "id": "t2EkCsXuHF-4"
      },
      "source": [
        "32) What proportion of these numbers is between 2.4 and 2.6?"
      ]
    },
    {
      "cell_type": "code",
      "execution_count": null,
      "metadata": {
        "id": "xsNzXDb2HF-4"
      },
      "outputs": [],
      "source": []
    },
    {
      "cell_type": "markdown",
      "metadata": {
        "id": "9DgPEGqSHF-5"
      },
      "source": [
        "33) Generate 100,000 random standard normal (i.e., mean 0 standard deviation 1) numbers. Again, find the mean to verify you've done this properly."
      ]
    },
    {
      "cell_type": "code",
      "execution_count": null,
      "metadata": {
        "id": "m6O0_oWrHF-6"
      },
      "outputs": [],
      "source": []
    },
    {
      "cell_type": "markdown",
      "metadata": {
        "id": "J6wPpIW_HF-7"
      },
      "source": [
        "34) What proportion of these numbers is negative?"
      ]
    },
    {
      "cell_type": "code",
      "execution_count": null,
      "metadata": {
        "id": "2PuSzjLIHF-7"
      },
      "outputs": [],
      "source": []
    },
    {
      "cell_type": "markdown",
      "metadata": {
        "id": "NDl7-dddHF-7"
      },
      "source": [
        "35a) What proportion of these numbers is between -1 and 1?"
      ]
    },
    {
      "cell_type": "code",
      "execution_count": null,
      "metadata": {
        "id": "AoIHce7kHF-8"
      },
      "outputs": [],
      "source": []
    },
    {
      "cell_type": "markdown",
      "metadata": {
        "id": "AbdErIBLHF-8"
      },
      "source": [
        "35b) What proportion of these numbers is between -2 and 2?"
      ]
    },
    {
      "cell_type": "code",
      "execution_count": null,
      "metadata": {
        "id": "OLZiIk1nHF-9"
      },
      "outputs": [],
      "source": []
    },
    {
      "cell_type": "markdown",
      "metadata": {
        "id": "6Sxgit2IHF-_"
      },
      "source": [
        "35c) What proportion of these numbers is between -3 and 3? Have you seen your last 3 solutions before? (If you've taken an intro stats course in college before, you will have.)"
      ]
    },
    {
      "cell_type": "code",
      "execution_count": null,
      "metadata": {
        "id": "KpZkxQCeHF_B"
      },
      "outputs": [],
      "source": []
    },
    {
      "cell_type": "markdown",
      "metadata": {
        "id": "sMj9Pg9UHF_B"
      },
      "source": [
        "### For the next few problems, we will be playing Rock-Paper-Scissors\n",
        "If you are unfamiliar with the game Rock-Paper-Scissors, it features two combatants choosing one of three hand motions: rock, paper, or scissors. Rock beats scissors, scissors beats paper, and paper beats rock. Two friends are playing: Karen and Tom. Unbeknownst to them, you've been studying and recording both of their play patterns. Karen chooses rock 40% of the time, paper 10% of the time, and scissors 50% of the time. For Tom, it's rock 10%, paper 60%, scissors 30%. Who wins the most often?\n",
        "\n",
        "**This is an extremely difficult question.** We will get to the answer in a few guided steps. You'll want to use `np.random.choice()` to help you through this."
      ]
    },
    {
      "cell_type": "markdown",
      "metadata": {
        "id": "zXEziiFfHF_B"
      },
      "source": [
        "36) Create vectors `p_karen` and `p_tom` that represent their respective probabilities for rock, paper, and scissors."
      ]
    },
    {
      "cell_type": "code",
      "execution_count": null,
      "metadata": {
        "id": "9bSKSIR7HF_C"
      },
      "outputs": [],
      "source": []
    },
    {
      "cell_type": "markdown",
      "metadata": {
        "id": "vNi7-GGNHF_C"
      },
      "source": [
        "37) Simulate 5 games. Who wins the majority of them? Just eyeball this one. (No one wins a draw.)"
      ]
    },
    {
      "cell_type": "code",
      "execution_count": null,
      "metadata": {
        "id": "jbQj5_PBHF_C"
      },
      "outputs": [],
      "source": []
    },
    {
      "cell_type": "markdown",
      "metadata": {
        "id": "bim2LsPHHF_C"
      },
      "source": [
        "38) Let's write a function to handle _one game at a time_. Write a function called `rps` that takes two arguments: `karen` and `tom` that will be either `\"R\"`, `\"P\"`, or `\"S\"`. The function will return `\"K\"`, `\"T\"`, or `\"D\"`, representing Karen, Tom, or a draw. That is, the function should give the following results:\n",
        "\n",
        "* `rps(\"R\", \"P\") ==> \"T\"`\n",
        "* `rps(\"R\", \"S\") ==> \"K\"`\n",
        "* `rps(\"R\", \"R\") ==> \"D\"`\n",
        "\n",
        "\n",
        "* _Hint:_ Your answer will be a mess of `if`/`elif` statements."
      ]
    },
    {
      "cell_type": "code",
      "execution_count": null,
      "metadata": {
        "id": "C18v1cKUHF_D"
      },
      "outputs": [],
      "source": []
    },
    {
      "cell_type": "markdown",
      "metadata": {
        "id": "QRX4OR3bHF_D"
      },
      "source": [
        "39) As it stands now, the function you have written cannot handle vector data. Luckily, `numpy` gives us a function that allows us to vectorize any function we want. Use `np.vectorize` to create `rps_vectorized`, the vectorized version of `rps`. Skim the docs [here](https://docs.scipy.org/doc/numpy/reference/generated/numpy.vectorize.html)."
      ]
    },
    {
      "cell_type": "code",
      "execution_count": null,
      "metadata": {
        "id": "uisa51rmHF_D"
      },
      "outputs": [],
      "source": []
    },
    {
      "cell_type": "markdown",
      "metadata": {
        "id": "HSK-CSyDHF_D"
      },
      "source": [
        "40) Simulate 1,000,000 (yes, one million) games. How often does Karen win? You can find the results by:\n",
        "\n",
        "1. Replicating your solution to problems 37 and 38, except for one million instead of 5.\n",
        "1. Using the function you made in problem 39.\n",
        "\n",
        "\n",
        "* _Note 1:_ These probabilities are relatively difficult to figure out by hand. Some probabilities are best discovered by simulation. Another way of asking the above question is \"What is the probability of Karen winning?\")\n",
        "* _Note 2:_ Look what we did! We used vectorization to completely eliminate the need for a loop! You _could_ have solved this problem with a loop, but it would have taken significantly more computer time."
      ]
    },
    {
      "cell_type": "code",
      "execution_count": null,
      "metadata": {
        "id": "oqGpHU3MHF_E"
      },
      "outputs": [],
      "source": []
    },
    {
      "cell_type": "markdown",
      "metadata": {
        "id": "_JwMTgMEHF_E"
      },
      "source": [
        "### Regression Simulation\n",
        "Next, suppose we're trying to simulate some fake data for a regression problem we wish to give to our students. We wish to simulate data for the following equation:\n",
        "\n",
        "$$y = 1000 + 200x + \\varepsilon$$\n",
        "\n",
        "Where $\\varepsilon \\sim N(0, 20)$ (that is, $\\varepsilon$ is normally distributed with mean 0 and standard deviation 20)."
      ]
    },
    {
      "cell_type": "markdown",
      "metadata": {
        "id": "xKMIUJcyHF_E"
      },
      "source": [
        "41) Generate 10 $x$s from the $N(50, 10)$ distribution. (That is, the normal distribution with mean 50 and standard deviation 10)."
      ]
    },
    {
      "cell_type": "code",
      "execution_count": null,
      "metadata": {
        "id": "1GsPyKNoHF_F"
      },
      "outputs": [],
      "source": []
    },
    {
      "cell_type": "markdown",
      "metadata": {
        "id": "P7fr4ssUHF_F"
      },
      "source": [
        "42) Generate 10 $\\varepsilon$s from the appropriate distribution described above."
      ]
    },
    {
      "cell_type": "code",
      "execution_count": null,
      "metadata": {
        "id": "vD7sX7InHF_G"
      },
      "outputs": [],
      "source": []
    },
    {
      "cell_type": "markdown",
      "metadata": {
        "id": "7xxo5bVkHF_G"
      },
      "source": [
        "43) Simulate the $y$s as described above using the two vectors you made in the previous two problems."
      ]
    },
    {
      "cell_type": "code",
      "execution_count": null,
      "metadata": {
        "scrolled": false,
        "id": "MyBZIvmoHF_H"
      },
      "outputs": [],
      "source": []
    },
    {
      "cell_type": "markdown",
      "metadata": {
        "id": "Z446xcZKHF_I"
      },
      "source": [
        "# Section IV: Matrices\n",
        "_Tiny note:_ In general, we have told you it's against Python's style guide to use capital letters when defining variables. The one exception we make is when our variables represent mathematical objects. So feel free to name the following variables things like `A`, `B`, etc.!"
      ]
    },
    {
      "cell_type": "markdown",
      "metadata": {
        "id": "bO4jLL9qHF_I"
      },
      "source": [
        "44) Create the following matrix:\n",
        "\n",
        "$$\n",
        "A =\n",
        "\\begin{bmatrix}\n",
        "3 & -1 & 5 \\\\\n",
        "-2 & 0 & 8 \\\\\n",
        "4 & 5 & -7\n",
        "\\end{bmatrix}\n",
        "$$"
      ]
    },
    {
      "cell_type": "code",
      "execution_count": null,
      "metadata": {
        "id": "SImFbnAhHF_J"
      },
      "outputs": [],
      "source": []
    },
    {
      "cell_type": "markdown",
      "metadata": {
        "id": "BfrTLT0gHF_J"
      },
      "source": [
        "45) Create the following matrix:\n",
        "\n",
        "$$\n",
        "B =\n",
        "\\begin{bmatrix}\n",
        "-3 & 8 & 2 \\\\\n",
        "2 & -3 & 5 \\\\\n",
        "0 & 6 & -2\n",
        "\\end{bmatrix}\n",
        "$$"
      ]
    },
    {
      "cell_type": "code",
      "execution_count": null,
      "metadata": {
        "id": "3L6M1JjoHF_J"
      },
      "outputs": [],
      "source": []
    },
    {
      "cell_type": "markdown",
      "metadata": {
        "id": "vcL9vWHgHF_K"
      },
      "source": [
        "46) Use `np.eye()` to create the following matrix:\n",
        "\n",
        "$$\n",
        "I = I_3 =\n",
        "\\begin{bmatrix}\n",
        "1 & 0 & 0 \\\\\n",
        "0 & 1 & 0 \\\\\n",
        "0 & 0 & 1 \\\\\n",
        "\\end{bmatrix}\n",
        "$$"
      ]
    },
    {
      "cell_type": "code",
      "execution_count": null,
      "metadata": {
        "id": "EwLGGiIBHF_K"
      },
      "outputs": [],
      "source": []
    },
    {
      "cell_type": "markdown",
      "metadata": {
        "id": "ZtBPl80aHF_K"
      },
      "source": [
        "47) Triple every element of `B`. (Do not reassign.)"
      ]
    },
    {
      "cell_type": "code",
      "execution_count": null,
      "metadata": {
        "id": "2sLYBzpfHF_K"
      },
      "outputs": [],
      "source": []
    },
    {
      "cell_type": "markdown",
      "metadata": {
        "id": "hNuF_XBYHF_M"
      },
      "source": [
        "48) Index `A` in order to get me -7."
      ]
    },
    {
      "cell_type": "code",
      "execution_count": null,
      "metadata": {
        "id": "QR4vq53xHF_Q"
      },
      "outputs": [],
      "source": []
    },
    {
      "cell_type": "markdown",
      "metadata": {
        "id": "D08CTNW_HF_S"
      },
      "source": [
        "49) Index `A` in order to get me 0."
      ]
    },
    {
      "cell_type": "code",
      "execution_count": null,
      "metadata": {
        "id": "E442w7t1HF_T"
      },
      "outputs": [],
      "source": []
    },
    {
      "cell_type": "markdown",
      "metadata": {
        "id": "hVE2LWkLHF_T"
      },
      "source": [
        "50) Index `A` to get me $\\begin{bmatrix} -2 & 0 & 8 \\end{bmatrix}$"
      ]
    },
    {
      "cell_type": "code",
      "execution_count": null,
      "metadata": {
        "id": "OkuvBg80HF_U"
      },
      "outputs": [],
      "source": []
    },
    {
      "cell_type": "markdown",
      "metadata": {
        "id": "8Vkje_SdHF_U"
      },
      "source": [
        "51) Index `A` to get me\n",
        "$$\n",
        "\\begin{bmatrix}\n",
        "-1 \\\\ 0 \\\\ 5\n",
        "\\end{bmatrix}\n",
        "$$\n",
        "\n",
        "(You can ignore the fact that it may print out as a row vector)"
      ]
    },
    {
      "cell_type": "code",
      "execution_count": null,
      "metadata": {
        "id": "RTX4oH3uHF_V"
      },
      "outputs": [],
      "source": []
    },
    {
      "cell_type": "markdown",
      "metadata": {
        "id": "I6nwO32DHF_W"
      },
      "source": [
        "52) Index `A` to get me\n",
        "$$\n",
        "\\begin{bmatrix}\n",
        "0 & 8 \\\\\n",
        "5 & -7\n",
        "\\end{bmatrix}\n",
        "$$"
      ]
    },
    {
      "cell_type": "code",
      "execution_count": null,
      "metadata": {
        "id": "2C5ZlJzsHF_W"
      },
      "outputs": [],
      "source": []
    },
    {
      "cell_type": "markdown",
      "metadata": {
        "id": "Qp5j_ZNgHF_X"
      },
      "source": [
        "53) Redefine the middle column of `A` to be\n",
        "$$\n",
        "\\begin{bmatrix}\n",
        "-2 \\\\ 1 \\\\ 7\n",
        "\\end{bmatrix}\n",
        "$$"
      ]
    },
    {
      "cell_type": "code",
      "execution_count": null,
      "metadata": {
        "id": "m9yY7Uo6HF_X"
      },
      "outputs": [],
      "source": []
    },
    {
      "cell_type": "markdown",
      "metadata": {
        "id": "2jMksjWaHF_Z"
      },
      "source": [
        "54) Index `B` to define the following matrix:\n",
        "$$\n",
        "C =\n",
        "\\begin{bmatrix}\n",
        "8 & 2 \\\\\n",
        "-3 & 5 \\\\\n",
        "6 & -2\n",
        "\\end{bmatrix}\n",
        "$$"
      ]
    },
    {
      "cell_type": "code",
      "execution_count": null,
      "metadata": {
        "id": "3Eo3onvxHF_Z"
      },
      "outputs": [],
      "source": []
    },
    {
      "cell_type": "markdown",
      "metadata": {
        "id": "h34exQ3nHF_a"
      },
      "source": [
        "55) What is $A + B$?"
      ]
    },
    {
      "cell_type": "code",
      "execution_count": null,
      "metadata": {
        "id": "ww1H9ZC2HF_a"
      },
      "outputs": [],
      "source": []
    },
    {
      "cell_type": "markdown",
      "metadata": {
        "id": "BCP66sXJHF_b"
      },
      "source": [
        "56) What is $2A - 3B$?"
      ]
    },
    {
      "cell_type": "code",
      "execution_count": null,
      "metadata": {
        "id": "DGm1u1pzHF_c"
      },
      "outputs": [],
      "source": []
    },
    {
      "cell_type": "markdown",
      "metadata": {
        "id": "QFTFkueVHF_c"
      },
      "source": [
        "57) What is the elementwise product of $A$ and $B$?"
      ]
    },
    {
      "cell_type": "code",
      "execution_count": null,
      "metadata": {
        "id": "CUbCCJoGHF_d"
      },
      "outputs": [],
      "source": []
    },
    {
      "cell_type": "markdown",
      "metadata": {
        "id": "38RvEl2nHF_f"
      },
      "source": [
        "58) What is $AB$?"
      ]
    },
    {
      "cell_type": "code",
      "execution_count": null,
      "metadata": {
        "id": "NsWNydziHF_i"
      },
      "outputs": [],
      "source": []
    },
    {
      "cell_type": "markdown",
      "metadata": {
        "id": "icLMfG0zHF_j"
      },
      "source": [
        "59) What is $BA$? And why isn't it the same as $AB$?"
      ]
    },
    {
      "cell_type": "code",
      "execution_count": null,
      "metadata": {
        "id": "-dlSHAb-HF_k"
      },
      "outputs": [],
      "source": []
    },
    {
      "cell_type": "markdown",
      "metadata": {
        "id": "7eXvepYgHF_k"
      },
      "source": [
        "60) What is $AI$, and is it equal to $IA$? Does this product look familiar?"
      ]
    },
    {
      "cell_type": "code",
      "execution_count": null,
      "metadata": {
        "id": "QzEMbrW6HF_l"
      },
      "outputs": [],
      "source": []
    },
    {
      "cell_type": "code",
      "execution_count": null,
      "metadata": {
        "id": "d1cqUhHAHF_m"
      },
      "outputs": [],
      "source": []
    },
    {
      "cell_type": "markdown",
      "metadata": {
        "id": "hDfD8LJzHF_m"
      },
      "source": [
        "61) What is $AC$?"
      ]
    },
    {
      "cell_type": "code",
      "execution_count": null,
      "metadata": {
        "id": "w1Au0LD2HF_m"
      },
      "outputs": [],
      "source": []
    },
    {
      "cell_type": "markdown",
      "metadata": {
        "id": "1Iegt1GVHF_m"
      },
      "source": [
        "62) Why do we get an error when calculating $CA$?"
      ]
    },
    {
      "cell_type": "code",
      "execution_count": null,
      "metadata": {
        "id": "A0wCGQMRHF_m"
      },
      "outputs": [],
      "source": []
    },
    {
      "cell_type": "markdown",
      "metadata": {
        "id": "RyculHC7HF_n"
      },
      "source": [
        "63) What is $A^TA$? Note that you answer will be a _diagonal matrix_, that is, a matrix that is equal to its transpose."
      ]
    },
    {
      "cell_type": "code",
      "execution_count": null,
      "metadata": {
        "id": "HX-NalafHF_n"
      },
      "outputs": [],
      "source": []
    },
    {
      "cell_type": "markdown",
      "metadata": {
        "id": "c55CR5MgHF_o"
      },
      "source": [
        "64) What is $A^TB$?"
      ]
    },
    {
      "cell_type": "code",
      "execution_count": null,
      "metadata": {
        "id": "u4aDIhHKHF_o"
      },
      "outputs": [],
      "source": []
    },
    {
      "cell_type": "markdown",
      "metadata": {
        "id": "_QQ7samuHF_o"
      },
      "source": [
        "65) What is $A^{-1}$ (the inverse of $A$)."
      ]
    },
    {
      "cell_type": "code",
      "execution_count": null,
      "metadata": {
        "id": "vvOh51mVHF_p"
      },
      "outputs": [],
      "source": []
    },
    {
      "cell_type": "markdown",
      "metadata": {
        "id": "48G1AvzGHF_p"
      },
      "source": [
        "66) What is $AA^{-1}$? Does it look familiar?\n",
        "\n",
        "* _Hint:_ Maybe call an `np.round()` on your result."
      ]
    },
    {
      "cell_type": "code",
      "execution_count": null,
      "metadata": {
        "id": "t0AU35rAHF_p"
      },
      "outputs": [],
      "source": []
    },
    {
      "cell_type": "markdown",
      "metadata": {
        "id": "ALrf4mW1HF_p"
      },
      "source": [
        "67) What is $(B + A^TA)^{-1}A^TC$?"
      ]
    },
    {
      "cell_type": "code",
      "execution_count": null,
      "metadata": {
        "id": "-qSoYyERHF_q"
      },
      "outputs": [],
      "source": []
    }
  ],
  "metadata": {
    "kernelspec": {
      "display_name": "Python 3",
      "language": "python",
      "name": "python3"
    },
    "language_info": {
      "codemirror_mode": {
        "name": "ipython",
        "version": 3
      },
      "file_extension": ".py",
      "mimetype": "text/x-python",
      "name": "python",
      "nbconvert_exporter": "python",
      "pygments_lexer": "ipython3",
      "version": "3.6.9"
    },
    "colab": {
      "provenance": []
    }
  },
  "nbformat": 4,
  "nbformat_minor": 0
}