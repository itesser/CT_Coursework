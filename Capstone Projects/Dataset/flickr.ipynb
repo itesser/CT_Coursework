{
 "cells": [
  {
   "cell_type": "markdown",
   "metadata": {},
   "source": [
    "dx_image_analysis\n",
    "Key: (aka consumer key)\n",
    "82fbf72fad4735faa2b9652df0961703\n",
    "\n",
    "Secret: (aka consumer secret)\n",
    "ef3b2eae6d3b0572\n",
    "\n",
    "https://api.flickr.com/services\n",
    "\n",
    "user ID - 40084484@N00\n",
    "\n",
    "--- \n",
    "token received through\n",
    "https://www.flickr.com/services/api/explore/flickr.auth.oauth.getAccessToken\n",
    "\n",
    "<access_token oauth_token=\"72157720897083943-4a708adc341cdb5f\" oauth_token_secret=\"b2b43d688a8156af\" />\n",
    "example \n",
    "URL: https://www.flickr.com/services/rest/?method=flickr.auth.oauth.getAccessToken&api_key=d32c6725f6c728f7dddd0bab808a16b5&format=json&nojsoncallback=1&auth_token=72157720897059284-b5ab77e5932f460b&api_sig=c8a6078b96e0252f480680e9fc3b61b6\n",
    "\n",
    "----\n",
    "another url/token: \n",
    "URL: https://www.flickr.com/services/rest/?method=flickr.auth.oauth.getAccessToken&api_key=d32c6725f6c728f7dddd0bab808a16b5&format=json&nojsoncallback=1&auth_token=72157720897047617-4374a7ff7a83c954&api_sig=eab2c81bed0b75192899322607c6c8fc\n",
    "\n",
    "{\n",
    "    \"auth\": {\n",
    "        \"access_token\": {\n",
    "            \"oauth_token\": \"72157720897047622-3c45ede7425b5709\",\n",
    "            \"oauth_token_secret\": \"ef7b4773263487e6\"\n",
    "        }\n",
    "    },\n",
    "    \"stat\": \"ok\"\n",
    "}\n",
    "from bs4 import BeautifulSoup\n",
    "import requests\n",
    "import datetime\n",
    "import secrets\n",
    "import flickrapi\n"
   ]
  },
  {
   "cell_type": "code",
   "execution_count": 2,
   "metadata": {},
   "outputs": [],
   "source": [
    "import flickrapi"
   ]
  },
  {
   "cell_type": "code",
   "execution_count": 5,
   "metadata": {},
   "outputs": [],
   "source": [
    "\n",
    "api_key = u'82fbf72fad4735faa2b9652df0961703'\n",
    "\n",
    "api_secret = u'ef3b2eae6d3b0572'\n",
    "\n",
    "flickr = flickrapi.FlickrAPI(api_key, api_secret, format='json')\n",
    "flickr.authenticate_via_browser(perms='read')\n",
    "\n",
    "itesser_id = '40084484@N00'"
   ]
  },
  {
   "cell_type": "code",
   "execution_count": 6,
   "metadata": {},
   "outputs": [],
   "source": [
    "photos = flickr.photos.search(user_id=itesser_id, per_page=10)"
   ]
  },
  {
   "cell_type": "code",
   "execution_count": 7,
   "metadata": {},
   "outputs": [
    {
     "ename": "AttributeError",
     "evalue": "'xml.etree.ElementTree.Element' object has no attribute 'contents'",
     "output_type": "error",
     "traceback": [
      "\u001b[1;31m---------------------------------------------------------------------------\u001b[0m",
      "\u001b[1;31mAttributeError\u001b[0m                            Traceback (most recent call last)",
      "\u001b[1;32mh:\\Dropbox\\CodingTemple\\CT_Coursework\\Capstone Projects\\Dataset\\flickr.ipynb Cell 5\u001b[0m line \u001b[0;36m1\n\u001b[1;32m----> <a href='vscode-notebook-cell:/h%3A/Dropbox/CodingTemple/CT_Coursework/Capstone%20Projects/Dataset/flickr.ipynb#X13sZmlsZQ%3D%3D?line=0'>1</a>\u001b[0m photos\u001b[39m.\u001b[39;49mcontents\n",
      "\u001b[1;31mAttributeError\u001b[0m: 'xml.etree.ElementTree.Element' object has no attribute 'contents'"
     ]
    }
   ],
   "source": [
    "photos.contents"
   ]
  },
  {
   "cell_type": "code",
   "execution_count": 25,
   "metadata": {},
   "outputs": [],
   "source": [
    "\n",
    "api_key = u'82fbf72fad4735faa2b9652df0961703'\n",
    "\n",
    "api_url = 'https://api.flickr.com/services/rest'\n",
    "\n",
    "api_secret = u'ef3b2eae6d3b0572'\n",
    "\n",
    "api_format = 'format=json&nojsoncallback=1' #always get raw json back\n",
    "\n",
    "request_time = str(int(round(datetime.datetime.now().timestamp())))  # current time in 10 digits\n",
    "\n",
    "nonce = secrets.token_urlsafe() #generates unique string for authentication\n",
    "\n",
    "oauth_sig_method ='HMAC-SHA1'\n",
    "\n",
    "callback_url = 'oauth_callback=oob'\n",
    "\n",
    "encode_dict = { '=': '%3D',\n",
    "               ':' : '%3A',\n",
    "               '&' : '%26',\n",
    "               '/' : '%2F',\n",
    "               '?' : '%3F'\n",
    "               }"
   ]
  },
  {
   "cell_type": "code",
   "execution_count": 28,
   "metadata": {},
   "outputs": [
    {
     "name": "stdout",
     "output_type": "stream",
     "text": [
      "https%3A%2F%2Fwww.flickr.com%2Fservices%2Foauth%2Frequest_token%3Foauth_callback%3Doob%26oauth_consumer_key%3D82fbf72fad4735faa2b9652df0961703%26oauth_nonce%3DAqr1jmVqxybBLeOAN2NO6Jy_zch1GAoOSWJnMuD38r0%26oauth_signature_method%3DHMAC-SHA1%26oauth_timestamp%3D1697408047\n"
     ]
    }
   ],
   "source": [
    "base_call = 'https%3A%2F%2Fwww.flickr.com%2Fservices%2Foauth%2Frequest_token?'\n",
    "pre_encoding = base_call+callback_url+'&oauth_consumer_key='+api_key+'&oauth_nonce='+nonce+'&oauth_signature_method='+oauth_sig_method+'&oauth_timestamp='+request_time\n",
    "fully_encoded_call = pre_encoding\n",
    "\n",
    "for to_replace, replacement in encode_dict.items():\n",
    "    fully_encoded_call = fully_encoded_call.replace(to_replace, replacement)\n",
    "\n",
    "print(fully_encoded_call)"
   ]
  },
  {
   "cell_type": "code",
   "execution_count": null,
   "metadata": {},
   "outputs": [],
   "source": [
    "#Goal Call:\n",
    "stuff_to_examine = requests.get()\n"
   ]
  },
  {
   "cell_type": "code",
   "execution_count": null,
   "metadata": {},
   "outputs": [],
   "source": [
    "#Goal Response:"
   ]
  },
  {
   "cell_type": "code",
   "execution_count": null,
   "metadata": {},
   "outputs": [],
   "source": [
    "#Test Call\n",
    "response = requests.get(f'{api_url}?method=flickr.people.findByUsername&{api_key}&username=ursid_major&{api_format}')\n"
   ]
  },
  {
   "cell_type": "code",
   "execution_count": 8,
   "metadata": {},
   "outputs": [
    {
     "name": "stdout",
     "output_type": "stream",
     "text": [
      "b'{\"user\":{\"id\":\"40084484@N00\",\"nsid\":\"40084484@N00\",\"username\":{\"_content\":\"ursid_major\"}},\"stat\":\"ok\"}'\n"
     ]
    }
   ],
   "source": [
    "#Test Response\n",
    "print(response.content)"
   ]
  }
 ],
 "metadata": {
  "kernelspec": {
   "display_name": "Python 3",
   "language": "python",
   "name": "python3"
  },
  "language_info": {
   "codemirror_mode": {
    "name": "ipython",
    "version": 3
   },
   "file_extension": ".py",
   "mimetype": "text/x-python",
   "name": "python",
   "nbconvert_exporter": "python",
   "pygments_lexer": "ipython3",
   "version": "3.11.5"
  }
 },
 "nbformat": 4,
 "nbformat_minor": 2
}
