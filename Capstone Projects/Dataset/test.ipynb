{
 "cells": [
  {
   "cell_type": "code",
   "execution_count": null,
   "metadata": {},
   "outputs": [],
   "source": [
    "vars = ['full_{}_count',\n",
    "'visib_{}_count',\n",
    "'vivid_{}_count']\n",
    "\n",
    "color_dict = {\n",
    "    15: 'red',\n",
    "    35: 'orange',\n",
    "    80: 'yellow',\n",
    "    140: 'green',\n",
    "    215: 'turq',\n",
    "    233: 'blue',\n",
    "    285: 'purple',\n",
    "    340: 'magenta',\n",
    "    361: 'red'\n",
    "}\n",
    "\n",
    "for col in color_dict.values():\n",
    "    for i in range(len(vars)):\n",
    "        print(vars[i].format(col))"
   ]
  },
  {
   "cell_type": "code",
   "execution_count": 1,
   "metadata": {},
   "outputs": [],
   "source": [
    "from random import randint\n",
    "import csv"
   ]
  },
  {
   "cell_type": "code",
   "execution_count": 18,
   "metadata": {},
   "outputs": [
    {
     "name": "stdout",
     "output_type": "stream",
     "text": [
      "['53279043510,', '53271709485,', '53271525568,', '53270140757,', '53268995479,', '53268640686,']\n",
      "4\n",
      "53268995479,\n",
      "['53279043510,', '53271709485,', '53271525568,', '53270140757,', '53268640686,']\n"
     ]
    }
   ],
   "source": [
    "asset_list = []\n",
    "with open('test_assets.csv', 'r') as file:\n",
    "    data = file.readlines()\n",
    "    for item in data:\n",
    "        asset_list.append(item.strip())\n",
    "\n",
    "print(asset_list)\n",
    "\n",
    "id_to_get = randint(0,len(asset_list)-2)\n",
    "\n",
    "print(id_to_get)\n",
    "picked_id = asset_list.pop(id_to_get)\n",
    "print(picked_id)\n",
    "\n",
    "print(asset_list)\n",
    "with open('test_assets.csv', 'w') as file:\n",
    "    for asset in asset_list:\n",
    "        file.writelines(f'{asset}\\n')\n",
    "    \n",
    "\n",
    "with open('assets_used.txt', 'a') as file:\n",
    "    file.write(picked_id+'\\n')\n"
   ]
  },
  {
   "cell_type": "code",
   "execution_count": 13,
   "metadata": {},
   "outputs": [
    {
     "ename": "ValueError",
     "evalue": "I/O operation on closed file.",
     "output_type": "error",
     "traceback": [
      "\u001b[1;31m---------------------------------------------------------------------------\u001b[0m",
      "\u001b[1;31mValueError\u001b[0m                                Traceback (most recent call last)",
      "\u001b[1;32mc:\\Users\\Sid\\Dropbox\\CodingTemple\\CT_Coursework\\Capstone Projects\\Dataset\\test.ipynb Cell 4\u001b[0m line \u001b[0;36m1\n\u001b[1;32m----> <a href='vscode-notebook-cell:/c%3A/Users/Sid/Dropbox/CodingTemple/CT_Coursework/Capstone%20Projects/Dataset/test.ipynb#W2sZmlsZQ%3D%3D?line=0'>1</a>\u001b[0m \u001b[39mfor\u001b[39;00m row \u001b[39min\u001b[39;00m data:\n\u001b[0;32m      <a href='vscode-notebook-cell:/c%3A/Users/Sid/Dropbox/CodingTemple/CT_Coursework/Capstone%20Projects/Dataset/test.ipynb#W2sZmlsZQ%3D%3D?line=1'>2</a>\u001b[0m     \u001b[39mprint\u001b[39m(row)\n",
      "\u001b[1;31mValueError\u001b[0m: I/O operation on closed file."
     ]
    }
   ],
   "source": [
    "for row in data:\n",
    "    print(row)"
   ]
  }
 ],
 "metadata": {
  "kernelspec": {
   "display_name": "Python 3",
   "language": "python",
   "name": "python3"
  },
  "language_info": {
   "codemirror_mode": {
    "name": "ipython",
    "version": 3
   },
   "file_extension": ".py",
   "mimetype": "text/x-python",
   "name": "python",
   "nbconvert_exporter": "python",
   "pygments_lexer": "ipython3",
   "version": "3.11.4"
  }
 },
 "nbformat": 4,
 "nbformat_minor": 2
}
