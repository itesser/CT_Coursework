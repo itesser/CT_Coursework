{
 "cells": [
  {
   "cell_type": "markdown",
   "metadata": {},
   "source": [
    "dx_image_analysis\n",
    "Key: (aka consumer key)\n",
    "82fbf72fad4735faa2b9652df0961703\n",
    "\n",
    "Secret: (aka consumer secret)\n",
    "ef3b2eae6d3b0572\n",
    "\n",
    "https://api.flickr.com/services\n",
    "\n",
    "user ID - 40084484@N00\n",
    "\n",
    "--- \n",
    "token received through\n",
    "https://www.flickr.com/services/api/explore/flickr.auth.oauth.getAccessToken\n",
    "\n",
    "<access_token oauth_token=\"72157720897083943-4a708adc341cdb5f\" oauth_token_secret=\"b2b43d688a8156af\" />\n",
    "example \n",
    "URL: https://www.flickr.com/services/rest/?method=flickr.auth.oauth.getAccessToken&api_key=d32c6725f6c728f7dddd0bab808a16b5&format=json&nojsoncallback=1&auth_token=72157720897059284-b5ab77e5932f460b&api_sig=c8a6078b96e0252f480680e9fc3b61b6\n",
    "\n",
    "----\n",
    "another url/token: \n",
    "URL: https://www.flickr.com/services/rest/?method=flickr.auth.oauth.getAccessToken&api_key=d32c6725f6c728f7dddd0bab808a16b5&format=json&nojsoncallback=1&auth_token=72157720897047617-4374a7ff7a83c954&api_sig=eab2c81bed0b75192899322607c6c8fc\n",
    "\n",
    "{\n",
    "    \"auth\": {\n",
    "        \"access_token\": {\n",
    "            \"oauth_token\": \"72157720897047622-3c45ede7425b5709\",\n",
    "            \"oauth_token_secret\": \"ef7b4773263487e6\"\n",
    "        }\n",
    "    },\n",
    "    \"stat\": \"ok\"\n",
    "}\n",
    "from bs4 import BeautifulSoup\n",
    "import requests\n",
    "import datetime\n",
    "import secrets\n",
    "import flickrapi\n"
   ]
  },
  {
   "cell_type": "code",
   "execution_count": 2,
   "metadata": {},
   "outputs": [
    {
     "name": "stdout",
     "output_type": "stream",
     "text": [
      "Collecting flickrapi\n",
      "  Downloading flickrapi-2.4.0-py2.py3-none-any.whl (26 kB)\n",
      "Requirement already satisfied: six>=1.5.2 in c:\\users\\sid\\appdata\\local\\programs\\python\\python311\\lib\\site-packages (from flickrapi) (1.16.0)\n",
      "Requirement already satisfied: requests>=2.2.1 in c:\\users\\sid\\appdata\\local\\programs\\python\\python311\\lib\\site-packages (from flickrapi) (2.31.0)\n",
      "Collecting requests-oauthlib>=0.4.0 (from flickrapi)\n",
      "  Downloading requests_oauthlib-1.3.1-py2.py3-none-any.whl (23 kB)\n",
      "Collecting requests-toolbelt>=0.3.1 (from flickrapi)\n",
      "  Downloading requests_toolbelt-1.0.0-py2.py3-none-any.whl (54 kB)\n",
      "     ---------------------------------------- 0.0/54.5 kB ? eta -:--:--\n",
      "     ---------------------------------------- 54.5/54.5 kB 2.8 MB/s eta 0:00:00\n",
      "Requirement already satisfied: charset-normalizer<4,>=2 in c:\\users\\sid\\appdata\\local\\programs\\python\\python311\\lib\\site-packages (from requests>=2.2.1->flickrapi) (3.2.0)\n",
      "Requirement already satisfied: idna<4,>=2.5 in c:\\users\\sid\\appdata\\local\\programs\\python\\python311\\lib\\site-packages (from requests>=2.2.1->flickrapi) (3.4)\n",
      "Requirement already satisfied: urllib3<3,>=1.21.1 in c:\\users\\sid\\appdata\\local\\programs\\python\\python311\\lib\\site-packages (from requests>=2.2.1->flickrapi) (2.0.4)\n",
      "Requirement already satisfied: certifi>=2017.4.17 in c:\\users\\sid\\appdata\\local\\programs\\python\\python311\\lib\\site-packages (from requests>=2.2.1->flickrapi) (2023.7.22)\n",
      "Collecting oauthlib>=3.0.0 (from requests-oauthlib>=0.4.0->flickrapi)\n",
      "  Downloading oauthlib-3.2.2-py3-none-any.whl (151 kB)\n",
      "     ---------------------------------------- 0.0/151.7 kB ? eta -:--:--\n",
      "     ----------------------------------- -- 143.4/151.7 kB 4.3 MB/s eta 0:00:01\n",
      "     -------------------------------------- 151.7/151.7 kB 2.2 MB/s eta 0:00:00\n",
      "Installing collected packages: oauthlib, requests-toolbelt, requests-oauthlib, flickrapi\n",
      "Successfully installed flickrapi-2.4.0 oauthlib-3.2.2 requests-oauthlib-1.3.1 requests-toolbelt-1.0.0\n"
     ]
    },
    {
     "name": "stderr",
     "output_type": "stream",
     "text": [
      "DEPRECATION: Loading egg at c:\\users\\sid\\appdata\\local\\programs\\python\\python311\\lib\\site-packages\\pymeanshift-0.2.2-py3.11-win-amd64.egg is deprecated. pip 24.3 will enforce this behaviour change. A possible replacement is to use pip for package installation.. Discussion can be found at https://github.com/pypa/pip/issues/12330\n"
     ]
    }
   ],
   "source": [
    "# ! pip install flickrapi"
   ]
  },
  {
   "cell_type": "code",
   "execution_count": 5,
   "metadata": {},
   "outputs": [],
   "source": [
    "import flickrapi\n",
    "import json\n",
    "import requests"
   ]
  },
  {
   "cell_type": "code",
   "execution_count": 4,
   "metadata": {},
   "outputs": [
    {
     "name": "stderr",
     "output_type": "stream",
     "text": [
      "127.0.0.1 - - [28/Oct/2023 08:55:15] \"GET /?oauth_token=72157720898461061-4825ec34697e03e3&oauth_verifier=efe2d7244628d676 HTTP/1.1\" 200 -\n"
     ]
    }
   ],
   "source": [
    "\n",
    "api_key = u'82fbf72fad4735faa2b9652df0961703'\n",
    "\n",
    "api_secret = u'ef3b2eae6d3b0572'\n",
    "\n",
    "flickr = flickrapi.FlickrAPI(api_key, api_secret, format='json')\n",
    "flickr.authenticate_via_browser(perms='read')\n",
    "\n",
    "itesser_id = '40084484@N00'"
   ]
  },
  {
   "cell_type": "markdown",
   "metadata": {},
   "source": [
    "## testing photostream crawl"
   ]
  },
  {
   "cell_type": "code",
   "execution_count": 4,
   "metadata": {},
   "outputs": [],
   "source": [
    "on_page = 1\n",
    "\n",
    "photo_payload = flickr.photos.search(user_id=itesser_id, per_page=10, page=on_page).decode('utf-8')\n",
    "photos = json.loads(photo_payload)"
   ]
  },
  {
   "cell_type": "code",
   "execution_count": 5,
   "metadata": {},
   "outputs": [],
   "source": [
    "reply_list = photos['photos']['photo'] # this is a list\n",
    "\n",
    "ph_ids_from_page = []\n",
    "\n",
    "for i in range(len(reply_list)):\n",
    "    ph_ids_from_page.append(reply_list[i]['id'])\n"
   ]
  },
  {
   "cell_type": "code",
   "execution_count": 6,
   "metadata": {},
   "outputs": [
    {
     "data": {
      "text/plain": [
       "['53277963552',\n",
       " '53278949319',\n",
       " '53279062860',\n",
       " '53279059630',\n",
       " '53279053550',\n",
       " '53278939999',\n",
       " '53278587091',\n",
       " '53278939959',\n",
       " '53278587026',\n",
       " '53278586986']"
      ]
     },
     "execution_count": 6,
     "metadata": {},
     "output_type": "execute_result"
    }
   ],
   "source": [
    "ph_ids_from_page"
   ]
  },
  {
   "cell_type": "markdown",
   "metadata": {},
   "source": [
    "## EXIF testing"
   ]
  },
  {
   "cell_type": "code",
   "execution_count": 7,
   "metadata": {},
   "outputs": [
    {
     "data": {
      "text/plain": [
       "[]"
      ]
     },
     "execution_count": 7,
     "metadata": {},
     "output_type": "execute_result"
    }
   ],
   "source": [
    "ids_to_use = []\n",
    "for id in ph_ids_from_page:\n",
    "    exif = json.loads(flickr.photos.getExif(photo_id =id).decode('utf-8'))\n",
    "    if len(exif['photo']['exif']) < 1:\n",
    "        pass #skip over photos with no exif information \n",
    "    else:\n",
    "        exif_list = exif['photo']['exif']\n",
    "        for i in range(len(exif_list)):\n",
    "            if exif_list[i]['label'] == 'ISO Speed':\n",
    "                ids_to_use.append(id)\n",
    "            \n",
    "ids_to_use"
   ]
  },
  {
   "cell_type": "code",
   "execution_count": 7,
   "metadata": {},
   "outputs": [],
   "source": [
    "good_photos = [53271390554,\n",
    "53270140757,\n",
    "53268995479,\n",
    "53268640686,\n",
    "53267173015,\n",
    "]"
   ]
  },
  {
   "cell_type": "markdown",
   "metadata": {},
   "source": [
    "## testing download call"
   ]
  },
  {
   "cell_type": "code",
   "execution_count": 14,
   "metadata": {},
   "outputs": [],
   "source": [
    "img_sizes = json.loads(flickr.photos.getSizes(photo_id=good_photos[0]).decode('utf-8'))\n"
   ]
  },
  {
   "cell_type": "code",
   "execution_count": 21,
   "metadata": {},
   "outputs": [],
   "source": [
    "# drill down in json \n",
    "xl_img = img_sizes['sizes']['size'][-3]\n",
    "\n",
    "xl_url = xl_img['source']\n",
    "\n",
    "img_download = requests.get(xl_url).content\n",
    "\n",
    "with open('current_img.jpg', 'wb') as pic:\n",
    "    pic.write(img_download)\n",
    "\n",
    "# then current_img.jpg gets piped into the pillowy goodness."
   ]
  }
 ],
 "metadata": {
  "kernelspec": {
   "display_name": "Python 3",
   "language": "python",
   "name": "python3"
  },
  "language_info": {
   "codemirror_mode": {
    "name": "ipython",
    "version": 3
   },
   "file_extension": ".py",
   "mimetype": "text/x-python",
   "name": "python",
   "nbconvert_exporter": "python",
   "pygments_lexer": "ipython3",
   "version": "3.11.4"
  }
 },
 "nbformat": 4,
 "nbformat_minor": 2
}
