{
 "cells": [
  {
   "cell_type": "markdown",
   "metadata": {},
   "source": [
    "import pillows\n"
   ]
  },
  {
   "cell_type": "code",
   "execution_count": 9,
   "metadata": {},
   "outputs": [],
   "source": [
    "import numpy as np\n",
    "from PIL import Image\n",
    "\n",
    "filename = 'dx_succulent_bricks.jpg'\n",
    "with Image.open(filename) as img:\n",
    "    img.load()"
   ]
  },
  {
   "cell_type": "code",
   "execution_count": 18,
   "metadata": {},
   "outputs": [],
   "source": [
    "type(img)\n",
    "# img.show()\n",
    "dim = img.size\n",
    "\n",
    "type(dim)\n",
    "x = dim[0]\n",
    "y = dim[1]\n",
    "\n",
    "thr = 0.33\n",
    "sxt = 0.67\n",
    "scale = [0, thr, sxt, 1]"
   ]
  },
  {
   "cell_type": "code",
   "execution_count": 23,
   "metadata": {},
   "outputs": [
    {
     "name": "stdout",
     "output_type": "stream",
     "text": [
      "[(0, 0), (0, 1089), (0, 2211), (0, 3300), (841, 0), (841, 1089), (841, 2211), (841, 3300), (1708, 0), (1708, 1089), (1708, 2211), (1708, 3300), (2550, 0), (2550, 1089), (2550, 2211), (2550, 3300)]\n"
     ]
    }
   ],
   "source": [
    "crop_matrix = [(int(scale[i]*x), int(scale[j]*y)) for i in range(len(scale)) for j in range(len(scale))]\n",
    "print(crop_matrix)\n",
    "cropping_point_pairs = [(0,5), (1,6), (2, 7), \n",
    "                        (4, 9), (5, 10), (6,11),\n",
    "                        (8,13), (9,14), (10,15)]\n",
    "\n",
    "crop_coords = [(crop_matrix[p[0]][0], crop_matrix[p[0]][1], crop_matrix[p[1]][0], crop_matrix[p[1]][1]) for p in cropping_point_pairs]\n",
    "\n",
    "print(crop_coords)\n",
    "segments = [img.crop(i) for i in crop_coords]\n",
    "\n",
    "segments[5].show()\n"
   ]
  }
 ],
 "metadata": {
  "kernelspec": {
   "display_name": "Python 3",
   "language": "python",
   "name": "python3"
  },
  "language_info": {
   "codemirror_mode": {
    "name": "ipython",
    "version": 3
   },
   "file_extension": ".py",
   "mimetype": "text/x-python",
   "name": "python",
   "nbconvert_exporter": "python",
   "pygments_lexer": "ipython3",
   "version": "3.11.5"
  },
  "orig_nbformat": 4
 },
 "nbformat": 4,
 "nbformat_minor": 2
}
