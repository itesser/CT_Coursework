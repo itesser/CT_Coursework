{
 "cells": [
  {
   "cell_type": "markdown",
   "metadata": {},
   "source": [
    "## Setup"
   ]
  },
  {
   "cell_type": "code",
   "execution_count": 68,
   "metadata": {},
   "outputs": [],
   "source": [
    "import pandas as pd\n",
    "import plotly.express as px\n",
    "import sqlalchemy\n",
    "import numpy as np"
   ]
  },
  {
   "cell_type": "code",
   "execution_count": 69,
   "metadata": {},
   "outputs": [
    {
     "data": {
      "text/html": [
       "<div>\n",
       "<style scoped>\n",
       "    .dataframe tbody tr th:only-of-type {\n",
       "        vertical-align: middle;\n",
       "    }\n",
       "\n",
       "    .dataframe tbody tr th {\n",
       "        vertical-align: top;\n",
       "    }\n",
       "\n",
       "    .dataframe thead th {\n",
       "        text-align: right;\n",
       "    }\n",
       "</style>\n",
       "<table border=\"1\" class=\"dataframe\">\n",
       "  <thead>\n",
       "    <tr style=\"text-align: right;\">\n",
       "      <th></th>\n",
       "      <th>City</th>\n",
       "      <th>Country</th>\n",
       "      <th>Venue</th>\n",
       "      <th>Opening act(s)</th>\n",
       "      <th>Attendance (tickets sold / available)</th>\n",
       "      <th>Revenue</th>\n",
       "      <th>Tour</th>\n",
       "    </tr>\n",
       "  </thead>\n",
       "  <tbody>\n",
       "    <tr>\n",
       "      <th>0</th>\n",
       "      <td>Evansville</td>\n",
       "      <td>United States</td>\n",
       "      <td>Roberts Municipal Stadium</td>\n",
       "      <td>Gloriana\\r\\nKellie Pickler</td>\n",
       "      <td>7,463 / 7,463</td>\n",
       "      <td>$360,617</td>\n",
       "      <td>Fearless_Tour</td>\n",
       "    </tr>\n",
       "    <tr>\n",
       "      <th>1</th>\n",
       "      <td>Jonesboro</td>\n",
       "      <td>United States</td>\n",
       "      <td>Convocation Center</td>\n",
       "      <td>Gloriana\\r\\nKellie Pickler</td>\n",
       "      <td>7,822 / 7,822</td>\n",
       "      <td>$340,328</td>\n",
       "      <td>Fearless_Tour</td>\n",
       "    </tr>\n",
       "    <tr>\n",
       "      <th>2</th>\n",
       "      <td>St. Louis</td>\n",
       "      <td>United States</td>\n",
       "      <td>Scottrade Center</td>\n",
       "      <td>Gloriana\\r\\nKellie Pickler</td>\n",
       "      <td>13,764 / 13,764</td>\n",
       "      <td>$650,420</td>\n",
       "      <td>Fearless_Tour</td>\n",
       "    </tr>\n",
       "    <tr>\n",
       "      <th>3</th>\n",
       "      <td>Alexandria</td>\n",
       "      <td>United States</td>\n",
       "      <td>Bishop Ireton High School</td>\n",
       "      <td>Gloriana\\r\\nKellie Pickler</td>\n",
       "      <td></td>\n",
       "      <td></td>\n",
       "      <td>Fearless_Tour</td>\n",
       "    </tr>\n",
       "    <tr>\n",
       "      <th>4</th>\n",
       "      <td>North Charleston</td>\n",
       "      <td>United States</td>\n",
       "      <td>North Charleston Coliseum</td>\n",
       "      <td>Gloriana\\r\\nKellie Pickler</td>\n",
       "      <td>8,751 / 8,751</td>\n",
       "      <td>$398,154</td>\n",
       "      <td>Fearless_Tour</td>\n",
       "    </tr>\n",
       "  </tbody>\n",
       "</table>\n",
       "</div>"
      ],
      "text/plain": [
       "               City        Country                      Venue  \\\n",
       "0        Evansville  United States  Roberts Municipal Stadium   \n",
       "1         Jonesboro  United States         Convocation Center   \n",
       "2         St. Louis  United States           Scottrade Center   \n",
       "3        Alexandria  United States  Bishop Ireton High School   \n",
       "4  North Charleston  United States  North Charleston Coliseum   \n",
       "\n",
       "               Opening act(s) Attendance (tickets sold / available)   Revenue  \\\n",
       "0  Gloriana\\r\\nKellie Pickler                         7,463 / 7,463  $360,617   \n",
       "1  Gloriana\\r\\nKellie Pickler                         7,822 / 7,822  $340,328   \n",
       "2  Gloriana\\r\\nKellie Pickler                       13,764 / 13,764  $650,420   \n",
       "3  Gloriana\\r\\nKellie Pickler                                                 \n",
       "4  Gloriana\\r\\nKellie Pickler                         8,751 / 8,751  $398,154   \n",
       "\n",
       "            Tour  \n",
       "0  Fearless_Tour  \n",
       "1  Fearless_Tour  \n",
       "2  Fearless_Tour  \n",
       "3  Fearless_Tour  \n",
       "4  Fearless_Tour  "
      ]
     },
     "execution_count": 69,
     "metadata": {},
     "output_type": "execute_result"
    }
   ],
   "source": [
    "df = pd.read_csv(r'Taylor_Train.csv', encoding='unicode_escape')\n",
    "df.head()"
   ]
  },
  {
   "cell_type": "code",
   "execution_count": 76,
   "metadata": {},
   "outputs": [
    {
     "name": "stdout",
     "output_type": "stream",
     "text": [
      "<class 'pandas.core.frame.DataFrame'>\n",
      "RangeIndex: 445 entries, 0 to 444\n",
      "Data columns (total 7 columns):\n",
      " #   Column                              Non-Null Count  Dtype \n",
      "---  ------                              --------------  ----- \n",
      " 0   city                                445 non-null    object\n",
      " 1   country                             445 non-null    object\n",
      " 2   venue                               445 non-null    object\n",
      " 3   opening_acts                        444 non-null    object\n",
      " 4   attendance_tickets_sold__available  442 non-null    object\n",
      " 5   revenue                             442 non-null    object\n",
      " 6   tour                                445 non-null    object\n",
      "dtypes: object(7)\n",
      "memory usage: 24.5+ KB\n"
     ]
    }
   ],
   "source": [
    "df.info()"
   ]
  },
  {
   "cell_type": "markdown",
   "metadata": {},
   "source": [
    "## Cleanup"
   ]
  },
  {
   "cell_type": "markdown",
   "metadata": {},
   "source": [
    "Normalizing column names and replacing special characters"
   ]
  },
  {
   "cell_type": "code",
   "execution_count": 70,
   "metadata": {},
   "outputs": [
    {
     "data": {
      "text/plain": [
       "Index(['city', 'country', 'venue', 'opening_acts',\n",
       "       'attendance_tickets_sold__available', 'revenue', 'tour'],\n",
       "      dtype='object')"
      ]
     },
     "execution_count": 70,
     "metadata": {},
     "output_type": "execute_result"
    }
   ],
   "source": [
    "replace_chars = ['(', ')', '/']\n",
    "df.columns = df.columns.str.lower().str.strip().str.replace(' ','_')\n",
    "\n",
    "for i in replace_chars:\n",
    "    df.columns = df.columns.str.replace(i,'')\n",
    "\n",
    "df.columns"
   ]
  },
  {
   "cell_type": "code",
   "execution_count": 71,
   "metadata": {},
   "outputs": [
    {
     "data": {
      "text/html": [
       "<div>\n",
       "<style scoped>\n",
       "    .dataframe tbody tr th:only-of-type {\n",
       "        vertical-align: middle;\n",
       "    }\n",
       "\n",
       "    .dataframe tbody tr th {\n",
       "        vertical-align: top;\n",
       "    }\n",
       "\n",
       "    .dataframe thead th {\n",
       "        text-align: right;\n",
       "    }\n",
       "</style>\n",
       "<table border=\"1\" class=\"dataframe\">\n",
       "  <thead>\n",
       "    <tr style=\"text-align: right;\">\n",
       "      <th></th>\n",
       "      <th>city</th>\n",
       "      <th>country</th>\n",
       "      <th>venue</th>\n",
       "      <th>opening_acts</th>\n",
       "      <th>attendance_tickets_sold__available</th>\n",
       "      <th>revenue</th>\n",
       "      <th>tour</th>\n",
       "    </tr>\n",
       "  </thead>\n",
       "  <tbody>\n",
       "    <tr>\n",
       "      <th>0</th>\n",
       "      <td>Evansville</td>\n",
       "      <td>United States</td>\n",
       "      <td>Roberts Municipal Stadium</td>\n",
       "      <td>Gloriana, Kellie Pickler</td>\n",
       "      <td>7,463 / 7,463</td>\n",
       "      <td>$360,617</td>\n",
       "      <td>Fearless_Tour</td>\n",
       "    </tr>\n",
       "    <tr>\n",
       "      <th>1</th>\n",
       "      <td>Jonesboro</td>\n",
       "      <td>United States</td>\n",
       "      <td>Convocation Center</td>\n",
       "      <td>Gloriana, Kellie Pickler</td>\n",
       "      <td>7,822 / 7,822</td>\n",
       "      <td>$340,328</td>\n",
       "      <td>Fearless_Tour</td>\n",
       "    </tr>\n",
       "    <tr>\n",
       "      <th>2</th>\n",
       "      <td>St. Louis</td>\n",
       "      <td>United States</td>\n",
       "      <td>Scottrade Center</td>\n",
       "      <td>Gloriana, Kellie Pickler</td>\n",
       "      <td>13,764 / 13,764</td>\n",
       "      <td>$650,420</td>\n",
       "      <td>Fearless_Tour</td>\n",
       "    </tr>\n",
       "    <tr>\n",
       "      <th>3</th>\n",
       "      <td>Alexandria</td>\n",
       "      <td>United States</td>\n",
       "      <td>Bishop Ireton High School</td>\n",
       "      <td>Gloriana, Kellie Pickler</td>\n",
       "      <td></td>\n",
       "      <td></td>\n",
       "      <td>Fearless_Tour</td>\n",
       "    </tr>\n",
       "    <tr>\n",
       "      <th>4</th>\n",
       "      <td>North Charleston</td>\n",
       "      <td>United States</td>\n",
       "      <td>North Charleston Coliseum</td>\n",
       "      <td>Gloriana, Kellie Pickler</td>\n",
       "      <td>8,751 / 8,751</td>\n",
       "      <td>$398,154</td>\n",
       "      <td>Fearless_Tour</td>\n",
       "    </tr>\n",
       "  </tbody>\n",
       "</table>\n",
       "</div>"
      ],
      "text/plain": [
       "               city        country                      venue  \\\n",
       "0        Evansville  United States  Roberts Municipal Stadium   \n",
       "1         Jonesboro  United States         Convocation Center   \n",
       "2         St. Louis  United States           Scottrade Center   \n",
       "3        Alexandria  United States  Bishop Ireton High School   \n",
       "4  North Charleston  United States  North Charleston Coliseum   \n",
       "\n",
       "               opening_acts attendance_tickets_sold__available   revenue  \\\n",
       "0  Gloriana, Kellie Pickler                      7,463 / 7,463  $360,617   \n",
       "1  Gloriana, Kellie Pickler                      7,822 / 7,822  $340,328   \n",
       "2  Gloriana, Kellie Pickler                    13,764 / 13,764  $650,420   \n",
       "3  Gloriana, Kellie Pickler                                              \n",
       "4  Gloriana, Kellie Pickler                      8,751 / 8,751  $398,154   \n",
       "\n",
       "            tour  \n",
       "0  Fearless_Tour  \n",
       "1  Fearless_Tour  \n",
       "2  Fearless_Tour  \n",
       "3  Fearless_Tour  \n",
       "4  Fearless_Tour  "
      ]
     },
     "execution_count": 71,
     "metadata": {},
     "output_type": "execute_result"
    }
   ],
   "source": [
    "df['opening_acts'] = df['opening_acts'].str.replace('\\r\\n', ', ')\n",
    "\n",
    "df.head()"
   ]
  },
  {
   "cell_type": "code",
   "execution_count": 72,
   "metadata": {},
   "outputs": [
    {
     "data": {
      "text/html": [
       "<div>\n",
       "<style scoped>\n",
       "    .dataframe tbody tr th:only-of-type {\n",
       "        vertical-align: middle;\n",
       "    }\n",
       "\n",
       "    .dataframe tbody tr th {\n",
       "        vertical-align: top;\n",
       "    }\n",
       "\n",
       "    .dataframe thead th {\n",
       "        text-align: right;\n",
       "    }\n",
       "</style>\n",
       "<table border=\"1\" class=\"dataframe\">\n",
       "  <thead>\n",
       "    <tr style=\"text-align: right;\">\n",
       "      <th></th>\n",
       "      <th>city</th>\n",
       "      <th>country</th>\n",
       "      <th>venue</th>\n",
       "      <th>opening_acts</th>\n",
       "      <th>attendance_tickets_sold__available</th>\n",
       "      <th>revenue</th>\n",
       "      <th>tour</th>\n",
       "    </tr>\n",
       "  </thead>\n",
       "  <tbody>\n",
       "    <tr>\n",
       "      <th>0</th>\n",
       "      <td>Evansville</td>\n",
       "      <td>United States</td>\n",
       "      <td>Roberts Municipal Stadium</td>\n",
       "      <td>Gloriana, Kellie Pickler</td>\n",
       "      <td>7,463 / 7,463</td>\n",
       "      <td>$360,617</td>\n",
       "      <td>Fearless_Tour</td>\n",
       "    </tr>\n",
       "    <tr>\n",
       "      <th>1</th>\n",
       "      <td>Jonesboro</td>\n",
       "      <td>United States</td>\n",
       "      <td>Convocation Center</td>\n",
       "      <td>Gloriana, Kellie Pickler</td>\n",
       "      <td>7,822 / 7,822</td>\n",
       "      <td>$340,328</td>\n",
       "      <td>Fearless_Tour</td>\n",
       "    </tr>\n",
       "    <tr>\n",
       "      <th>2</th>\n",
       "      <td>St. Louis</td>\n",
       "      <td>United States</td>\n",
       "      <td>Scottrade Center</td>\n",
       "      <td>Gloriana, Kellie Pickler</td>\n",
       "      <td>13,764 / 13,764</td>\n",
       "      <td>$650,420</td>\n",
       "      <td>Fearless_Tour</td>\n",
       "    </tr>\n",
       "    <tr>\n",
       "      <th>3</th>\n",
       "      <td>Alexandria</td>\n",
       "      <td>United States</td>\n",
       "      <td>Bishop Ireton High School</td>\n",
       "      <td>Gloriana, Kellie Pickler</td>\n",
       "      <td>-1/-1</td>\n",
       "      <td></td>\n",
       "      <td>Fearless_Tour</td>\n",
       "    </tr>\n",
       "    <tr>\n",
       "      <th>4</th>\n",
       "      <td>North Charleston</td>\n",
       "      <td>United States</td>\n",
       "      <td>North Charleston Coliseum</td>\n",
       "      <td>Gloriana, Kellie Pickler</td>\n",
       "      <td>8,751 / 8,751</td>\n",
       "      <td>$398,154</td>\n",
       "      <td>Fearless_Tour</td>\n",
       "    </tr>\n",
       "  </tbody>\n",
       "</table>\n",
       "</div>"
      ],
      "text/plain": [
       "               city        country                      venue  \\\n",
       "0        Evansville  United States  Roberts Municipal Stadium   \n",
       "1         Jonesboro  United States         Convocation Center   \n",
       "2         St. Louis  United States           Scottrade Center   \n",
       "3        Alexandria  United States  Bishop Ireton High School   \n",
       "4  North Charleston  United States  North Charleston Coliseum   \n",
       "\n",
       "               opening_acts attendance_tickets_sold__available   revenue  \\\n",
       "0  Gloriana, Kellie Pickler                      7,463 / 7,463  $360,617   \n",
       "1  Gloriana, Kellie Pickler                      7,822 / 7,822  $340,328   \n",
       "2  Gloriana, Kellie Pickler                    13,764 / 13,764  $650,420   \n",
       "3  Gloriana, Kellie Pickler                              -1/-1            \n",
       "4  Gloriana, Kellie Pickler                      8,751 / 8,751  $398,154   \n",
       "\n",
       "            tour  \n",
       "0  Fearless_Tour  \n",
       "1  Fearless_Tour  \n",
       "2  Fearless_Tour  \n",
       "3  Fearless_Tour  \n",
       "4  Fearless_Tour  "
      ]
     },
     "execution_count": 72,
     "metadata": {},
     "output_type": "execute_result"
    }
   ],
   "source": [
    "df['attendance_tickets_sold__available'] =  df['attendance_tickets_sold__available'].str.replace('','-1/-1')\n",
    "df.head()"
   ]
  },
  {
   "cell_type": "code",
   "execution_count": 79,
   "metadata": {},
   "outputs": [
    {
     "data": {
      "text/plain": [
       "0          7,463 / 7,463\n",
       "1          7,822 / 7,822\n",
       "2        13,764 / 13,764\n",
       "3                  -1/-1\n",
       "4          8,751 / 8,751\n",
       "             ...        \n",
       "440      72,805 / 72,805\n",
       "441      43,907 / 43,907\n",
       "442      35,749 / 35,749\n",
       "443    100,109 / 100,109\n",
       "444    100,109 / 100,109\n",
       "Name: attendance_tickets_sold__available, Length: 445, dtype: object"
      ]
     },
     "execution_count": 79,
     "metadata": {},
     "output_type": "execute_result"
    }
   ],
   "source": [
    "df['attendance_tickets_sold__available'].fillna('-1/-1')"
   ]
  },
  {
   "cell_type": "code",
   "execution_count": 80,
   "metadata": {},
   "outputs": [
    {
     "name": "stdout",
     "output_type": "stream",
     "text": [
      "<class 'pandas.core.frame.DataFrame'>\n",
      "RangeIndex: 445 entries, 0 to 444\n",
      "Data columns (total 7 columns):\n",
      " #   Column                              Non-Null Count  Dtype \n",
      "---  ------                              --------------  ----- \n",
      " 0   city                                445 non-null    object\n",
      " 1   country                             445 non-null    object\n",
      " 2   venue                               445 non-null    object\n",
      " 3   opening_acts                        444 non-null    object\n",
      " 4   attendance_tickets_sold__available  442 non-null    object\n",
      " 5   revenue                             442 non-null    object\n",
      " 6   tour                                445 non-null    object\n",
      "dtypes: object(7)\n",
      "memory usage: 24.5+ KB\n"
     ]
    }
   ],
   "source": [
    "df['attendance_tickets_sold__available'].value_counts()\n",
    "df.info()"
   ]
  },
  {
   "cell_type": "code",
   "execution_count": 83,
   "metadata": {},
   "outputs": [],
   "source": [
    "df[['attendance', 'venue_seats']] = df['attendance_tickets_sold__available'].str.split('/', expand=True)\n"
   ]
  },
  {
   "cell_type": "code",
   "execution_count": 84,
   "metadata": {},
   "outputs": [],
   "source": [
    "df.drop(columns='attendance_tickets_sold__available', inplace=True)"
   ]
  },
  {
   "cell_type": "code",
   "execution_count": null,
   "metadata": {},
   "outputs": [],
   "source": [
    "#df['attendance'] = df['attendance'].str.replace(',','').str.strip()\n",
    "#df['venue_seats'] = df['venue_seats'].str.replace(',','').str.strip()\n",
    "df['attendance'] = df['attendance'].fillna('-1').astype('int')\n",
    "df['venue_seats'] = df['venue_seats'].fillna('-1').astype('int')\n",
    "df['revenue'] = df['revenue'].fillna('-1')\n",
    "df['opening_acts'] = df['opening_acts'].fillna('None Listed')\n"
   ]
  },
  {
   "cell_type": "code",
   "execution_count": 102,
   "metadata": {},
   "outputs": [],
   "source": [
    "df['revenue'] = df['revenue'].str.replace('','-1')\n",
    "df['opening_acts'] = df['opening_acts'].str.replace('','None Listed')\n"
   ]
  },
  {
   "cell_type": "code",
   "execution_count": 108,
   "metadata": {},
   "outputs": [],
   "source": [
    "df['revenue'] = df['revenue'].str.strip('$').str.replace(',','').astype('int')"
   ]
  },
  {
   "cell_type": "code",
   "execution_count": 109,
   "metadata": {},
   "outputs": [
    {
     "name": "stdout",
     "output_type": "stream",
     "text": [
      "<class 'pandas.core.frame.DataFrame'>\n",
      "RangeIndex: 445 entries, 0 to 444\n",
      "Data columns (total 8 columns):\n",
      " #   Column        Non-Null Count  Dtype \n",
      "---  ------        --------------  ----- \n",
      " 0   city          445 non-null    object\n",
      " 1   country       445 non-null    object\n",
      " 2   venue         445 non-null    object\n",
      " 3   opening_acts  445 non-null    object\n",
      " 4   revenue       445 non-null    int32 \n",
      " 5   tour          445 non-null    object\n",
      " 6   attendance    445 non-null    int32 \n",
      " 7   venue_seats   445 non-null    int32 \n",
      "dtypes: int32(3), object(5)\n",
      "memory usage: 22.7+ KB\n"
     ]
    }
   ],
   "source": [
    "df.info()"
   ]
  },
  {
   "cell_type": "code",
   "execution_count": 115,
   "metadata": {},
   "outputs": [],
   "source": [
    "df['empty_seats'] = df['venue_seats'] - df['attendance']\n",
    "df.sort_values('empty_seats', ascending=False)\n",
    "\n",
    "df['avg_ticket_cost'] = df['revenue'] / df['attendance']\n",
    "\n",
    "df['est_lost_income'] = df['avg_ticket_cost'] * df['empty_seats']\n",
    "\n",
    "df['max_possible_revenue'] = df['avg_ticket_cost'] * df['venue_seats']"
   ]
  },
  {
   "cell_type": "markdown",
   "metadata": {},
   "source": [
    "## Export"
   ]
  },
  {
   "cell_type": "code",
   "execution_count": 117,
   "metadata": {},
   "outputs": [],
   "source": [
    "df.to_csv(r'tay_swift_data_clean.csv')"
   ]
  }
 ],
 "metadata": {
  "kernelspec": {
   "display_name": "Python 3",
   "language": "python",
   "name": "python3"
  },
  "language_info": {
   "codemirror_mode": {
    "name": "ipython",
    "version": 3
   },
   "file_extension": ".py",
   "mimetype": "text/x-python",
   "name": "python",
   "nbconvert_exporter": "python",
   "pygments_lexer": "ipython3",
   "version": "3.11.5"
  }
 },
 "nbformat": 4,
 "nbformat_minor": 2
}
