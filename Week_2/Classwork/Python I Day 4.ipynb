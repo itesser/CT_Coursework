{
 "cells": [
  {
   "attachments": {},
   "cell_type": "markdown",
   "metadata": {
    "id": "giAbN1rzE1Ai"
   },
   "source": [
    "# Coding Temple's Data Analytics Program                                        \n",
    "---\n",
    "## Python I: Object-Oriented-Programming (OOP)\n",
    "---"
   ]
  },
  {
   "attachments": {},
   "cell_type": "markdown",
   "metadata": {
    "id": "gEt2hxqGE1An"
   },
   "source": [
    "## Tasks Today:\n",
    "\n",
    "   \n",
    "\n",
    "1) <b>Creating a Class (Initializing/Declaring)</b> <br>\n",
    "2) <b>Using a Class (Instantiating)</b> <br>\n",
    " &nbsp;&nbsp;&nbsp;&nbsp; a) Creating One Instance <br>\n",
    " &nbsp;&nbsp;&nbsp;&nbsp; b) Creating Multiple Instances <br>\n",
    " &nbsp;&nbsp;&nbsp;&nbsp; c) In-Class Exercise #1 - Create a Class 'Car' and instantiate three different makes of cars <br>\n",
    "3) <b>The \\__init\\__() Method</b> <br>\n",
    " &nbsp;&nbsp;&nbsp;&nbsp; a) The 'self' Attribute <br>\n",
    "4) <b>Class Attributes</b> <br>\n",
    " &nbsp;&nbsp;&nbsp;&nbsp; a) Initializing Attributes <br>\n",
    " &nbsp;&nbsp;&nbsp;&nbsp; b) Setting an Attribute Outside of the \\__init\\__() Method <br>\n",
    " &nbsp;&nbsp;&nbsp;&nbsp; c) Setting Defaults for Attributes <br>\n",
    " &nbsp;&nbsp;&nbsp;&nbsp; d) Accessing Class Attributes <br>\n",
    " &nbsp;&nbsp;&nbsp;&nbsp; e) Changing Class Attributes <br>\n",
    " &nbsp;&nbsp;&nbsp;&nbsp; f) In-Class Exercise #2 - Add a color and wheels attribute to your 'Car' class <br>\n",
    "5) <b>Class Methods</b> <br>\n",
    " &nbsp;&nbsp;&nbsp;&nbsp; a) Creating <br>\n",
    " &nbsp;&nbsp;&nbsp;&nbsp; b) Calling <br>\n",
    " &nbsp;&nbsp;&nbsp;&nbsp; c) Modifying an Attribute's Value Through a Method <br>\n",
    " &nbsp;&nbsp;&nbsp;&nbsp; d) Incrementing an Attribute's Value Through a Method <br>\n",
    " &nbsp;&nbsp;&nbsp;&nbsp; e) In-Class Exercise #3 - Add a method that prints the cars color and wheel number, then call them <br>"
   ]
  },
  {
   "attachments": {},
   "cell_type": "markdown",
   "metadata": {
    "id": "qgEWxaC0E1Ao"
   },
   "source": [
    "## Creating a Class (Initializing/Declaring)\n",
    "<p>When creating a class, function, or even a variable you are initializing that object. Initializing and Declaring occur at the same time in Python, whereas in lower level languages you have to declare an object before initializing it. This is the first step in the process of using a class.</p>"
   ]
  },
  {
   "cell_type": "code",
   "execution_count": null,
   "metadata": {
    "id": "KSw6qoU4E1Ap"
   },
   "outputs": [],
   "source": []
  },
  {
   "attachments": {},
   "cell_type": "markdown",
   "metadata": {
    "id": "Y0lj3nB3E1Aq"
   },
   "source": [
    "## Using a Class (Instantiating)\n",
    "<p>The process of creating a class is called <i>Instantiating</i>. Each time you create a variable of that type of class, it is referred to as an <i>Instance</i> of that class. This is the second step in the process of using a class.</p>"
   ]
  },
  {
   "attachments": {},
   "cell_type": "markdown",
   "metadata": {
    "id": "vc-gH2E1E1Ar"
   },
   "source": [
    "##### Creating One Instance"
   ]
  },
  {
   "cell_type": "code",
   "execution_count": null,
   "metadata": {
    "id": "rxPg5dy9E1As"
   },
   "outputs": [],
   "source": []
  },
  {
   "cell_type": "code",
   "execution_count": null,
   "metadata": {},
   "outputs": [],
   "source": []
  },
  {
   "attachments": {},
   "cell_type": "markdown",
   "metadata": {},
   "source": [
    "#### Difference between a method/function and an attribute"
   ]
  },
  {
   "cell_type": "code",
   "execution_count": null,
   "metadata": {},
   "outputs": [],
   "source": [
    "\n",
    "    "
   ]
  },
  {
   "attachments": {},
   "cell_type": "markdown",
   "metadata": {
    "id": "mwkSVukCE1As"
   },
   "source": [
    "##### Creating Multiple Instances"
   ]
  },
  {
   "cell_type": "code",
   "execution_count": null,
   "metadata": {
    "id": "J-NBGcc1E1At"
   },
   "outputs": [],
   "source": []
  },
  {
   "attachments": {},
   "cell_type": "markdown",
   "metadata": {
    "id": "orHPhAdCE1At"
   },
   "source": [
    "##### In-Class Exercise #1 - Create a Class 'Car' and Instantiate three different makes of cars"
   ]
  },
  {
   "cell_type": "code",
   "execution_count": 6,
   "metadata": {
    "id": "aSsTqQAFE1Au"
   },
   "outputs": [
    {
     "name": "stdout",
     "output_type": "stream",
     "text": [
      "5\n",
      "5\n",
      "8\n",
      "8\n",
      "2\n",
      "2\n",
      "4\n"
     ]
    }
   ],
   "source": [
    "class Car:\n",
    "    seats = 5\n",
    "    windows = 6\n",
    "    mirrors = 3\n",
    "\n",
    "toyota = Car()\n",
    "honda = Car()\n",
    "subaru = Car()\n",
    "\n",
    "print(toyota.seats)\n",
    "toyota.seats = 8\n",
    "print(honda.seats)\n",
    "print(toyota.seats)\n",
    "Car.seats = 2\n",
    "print(toyota.seats)\n",
    "print(subaru.seats)\n",
    "print(honda.seats)\n",
    "honda.seats = 4\n",
    "Car.seats = 3\n",
    "print(honda.seats)"
   ]
  },
  {
   "attachments": {},
   "cell_type": "markdown",
   "metadata": {},
   "source": [
    "#### Object ID's and Class Instantiations"
   ]
  },
  {
   "cell_type": "code",
   "execution_count": null,
   "metadata": {},
   "outputs": [],
   "source": []
  },
  {
   "attachments": {},
   "cell_type": "markdown",
   "metadata": {
    "id": "lJh0fFLME1Au"
   },
   "source": [
    "## The \\__init\\__() Method <br>\n",
    "<p>This method is used in almost every created class, and called only once upon the creation of the class instance. This method will initialize all variables needed for the object.</p>"
   ]
  },
  {
   "cell_type": "code",
   "execution_count": null,
   "metadata": {
    "id": "ef5s6vbaE1Au"
   },
   "outputs": [],
   "source": [
    "class Car:\n",
    "    def __init__(self, mpg, color):\n",
    "        self.wheels = 4\n",
    "        self.color = color\n",
    "        self.mpg = mpg"
   ]
  },
  {
   "attachments": {},
   "cell_type": "markdown",
   "metadata": {
    "id": "YSCUixxTE1Av"
   },
   "source": [
    "##### The 'self' Attribute <br>\n",
    "<p>This attribute is required to keep track of specific instance's attributes. Without the self attribute, the program would not know how to reference or keep track of an instance's attributes.</p>"
   ]
  },
  {
   "cell_type": "code",
   "execution_count": null,
   "metadata": {
    "id": "8rfFnKp3E1Av"
   },
   "outputs": [],
   "source": [
    "# see above where we create the self.attributes\n",
    "class Cup:\n",
    "    def __init__(self, color, material, volume, handle, size):\n",
    "        self.color = color\n",
    "        self.material = material"
   ]
  },
  {
   "attachments": {},
   "cell_type": "markdown",
   "metadata": {
    "id": "FHAW6utmE1Av"
   },
   "source": [
    "## Class Attributes <br>\n",
    "<p>While variables are inside of a class, they are referred to as attributes and not variables. When someone says 'attribute' you know they're speaking about a class. Attributes can be initialized through the init method, or outside of it.</p>"
   ]
  },
  {
   "attachments": {},
   "cell_type": "markdown",
   "metadata": {
    "id": "sf-B77pbE1Av"
   },
   "source": [
    "##### Initializing Attributes"
   ]
  },
  {
   "cell_type": "code",
   "execution_count": null,
   "metadata": {
    "id": "D2L5_hVdE1Av"
   },
   "outputs": [],
   "source": [
    "class Toy:\n",
    "    kind = 'car' # static attribute <--- changes v. rarely\n",
    "\n",
    "    def __init__(self, color): # dynamic attributes <-- changes per instance of class\n",
    "        self.color = color\n",
    "\n",
    "\n"
   ]
  },
  {
   "attachments": {},
   "cell_type": "markdown",
   "metadata": {
    "id": "8k0rnG1dE1Av"
   },
   "source": [
    "##### Accessing Class Attributes"
   ]
  },
  {
   "cell_type": "code",
   "execution_count": null,
   "metadata": {
    "id": "_PKUR78BE1Av",
    "scrolled": true
   },
   "outputs": [],
   "source": []
  },
  {
   "attachments": {},
   "cell_type": "markdown",
   "metadata": {
    "id": "0LG1jwWcE1Aw"
   },
   "source": [
    "##### Setting Defaults for Attributes"
   ]
  },
  {
   "attachments": {},
   "cell_type": "markdown",
   "metadata": {},
   "source": [
    "##### **INIT STANDS FOR INITIALIZATION!**\n",
    "When we call the class, we end up having to provide the values for the attributes of the init function. Which means, that this run AS SOON as we call the class"
   ]
  },
  {
   "cell_type": "code",
   "execution_count": null,
   "metadata": {
    "id": "jz0KEMHDE1Aw"
   },
   "outputs": [],
   "source": []
  },
  {
   "cell_type": "code",
   "execution_count": null,
   "metadata": {},
   "outputs": [],
   "source": []
  },
  {
   "attachments": {},
   "cell_type": "markdown",
   "metadata": {
    "id": "P7zeGxM0E1Aw"
   },
   "source": [
    "##### Changing Class Attributes <br>\n",
    "<p>Keep in mind there are global class attributes and then there are attributes only available to each class instance which won't effect other classes.</p>"
   ]
  },
  {
   "cell_type": "code",
   "execution_count": null,
   "metadata": {
    "id": "PJBegn_JE1Aw"
   },
   "outputs": [],
   "source": []
  },
  {
   "attachments": {},
   "cell_type": "markdown",
   "metadata": {
    "id": "dUUbmR3SE1Aw"
   },
   "source": [
    "##### In-Class Exercise #2 - Add a doors and seats attribute to your 'Car' class then print out two different instances with different doors and seats"
   ]
  },
  {
   "cell_type": "code",
   "execution_count": null,
   "metadata": {
    "id": "ol8-7dFJE1Aw"
   },
   "outputs": [],
   "source": [
    "# use init, have one be default\n",
    "\n",
    "class Car:\n",
    "    wheels = 4\n",
    "    windshield = True\n",
    "\n"
   ]
  },
  {
   "attachments": {},
   "cell_type": "markdown",
   "metadata": {
    "id": "fIN43CNqE1Aw"
   },
   "source": [
    "## Class Methods <br>\n",
    "<p>While inside of a class, functions are referred to as 'methods'. If you hear someone mention methods, they're speaking about classes. Methods are essentially functions, but only callable on the instances of a class.</p>"
   ]
  },
  {
   "attachments": {},
   "cell_type": "markdown",
   "metadata": {
    "id": "C4t23Xw-E1Aw"
   },
   "source": [
    "##### Creating"
   ]
  },
  {
   "cell_type": "code",
   "execution_count": 9,
   "metadata": {
    "id": "nxJWEyQeE1Ax"
   },
   "outputs": [],
   "source": [
    "class ShoppingBag:\n",
    "    '''\n",
    "    att: handles (bool), capacity(int), items (list)\n",
    "    methods: show (print items), check capacity (overall vs filled), add (add an item), change capacity, inc capacity\n",
    "    '''\n",
    "    def __init__(self, handles, capacity, items = []):\n",
    "        self.handles = handles\n",
    "        self.capacity = capacity\n",
    "        self.items = items\n",
    "\n",
    "    def show_bag(self):\n",
    "        '''prints current contents'''\n",
    "        print(\"you have the following items in your bag\")\n",
    "        for item in self.items:\n",
    "            print(item)\n",
    "        \n",
    "    def check_capacity(self):\n",
    "        '''shows current items vs total possible items'''\n",
    "        print(f\"Your bag is holding {len(self.items)} out of {self.capacity} items\")\n",
    "\n",
    "    def add_item(self):\n",
    "        '''input an item into shopping bag'''\n",
    "        product = input('what would you like to add?')\n",
    "        self.items.append(product)\n",
    "\n",
    "    def change_bag_capacity(self, capacity):\n",
    "        '''[overwrites] dynamically changes bag capacity for unique instances of class instantiation'''\n",
    "        self.capacity = capacity\n",
    "\n",
    "    def increase_capacity(self, changed_capacity = 10):\n",
    "        '''[incrementally adds] increase the capacity of the bag by a specified increment, if none specified, will be increased by 10'''\n",
    "        self.capacity += changed_capacity\n",
    "\n",
    "\n",
    "    "
   ]
  },
  {
   "attachments": {},
   "cell_type": "markdown",
   "metadata": {
    "id": "kJ4mLPg5E1Ax"
   },
   "source": [
    "##### Calling"
   ]
  },
  {
   "cell_type": "code",
   "execution_count": null,
   "metadata": {
    "id": "D_I5p-aTE1Ax"
   },
   "outputs": [],
   "source": [
    "whole_foods_bag = ShoppingBag(True, 10)\n",
    "\n",
    "def run():\n",
    "    while True:\n",
    "        response = input(\"what would you like to do? add/show/quit\"):\n",
    "        if response[0].lower() == \"q\":\n",
    "            whole_foods_bag.show_bag()\n",
    "            print(\"thanks for shopping here!\")\n",
    "            break\n",
    "        elif response[0].lower() == \"a\":\n",
    "            whole_foods_bag.add_item()\n",
    "        elif response[0].lower() == \"s\":\n",
    "            whole_foods_bag.show_bag()\n",
    "\n",
    "run()\n"
   ]
  },
  {
   "attachments": {},
   "cell_type": "markdown",
   "metadata": {
    "id": "0ZllA5keE1Ax"
   },
   "source": [
    "##### Modifying an Attribute's Value Through a Method"
   ]
  },
  {
   "cell_type": "code",
   "execution_count": null,
   "metadata": {
    "id": "jT_iOoUcE1Ax"
   },
   "outputs": [],
   "source": []
  },
  {
   "attachments": {},
   "cell_type": "markdown",
   "metadata": {
    "id": "pV9obOHAE1Ax"
   },
   "source": [
    "##### Incrementing an Attribute's Value Through a Method"
   ]
  },
  {
   "cell_type": "code",
   "execution_count": null,
   "metadata": {
    "id": "-usVaZplE1Ax"
   },
   "outputs": [],
   "source": []
  },
  {
   "attachments": {},
   "cell_type": "markdown",
   "metadata": {
    "id": "d5P9d_B7E1Ax"
   },
   "source": [
    "##### In-Class Exercise #3 - Add a method that takes in three parameters of year, doors and seats and prints out a formatted print statement with make, model, year, seats, and doors"
   ]
  },
  {
   "cell_type": "code",
   "execution_count": 14,
   "metadata": {
    "id": "u5Tjs1foE1Ax"
   },
   "outputs": [
    {
     "name": "stdout",
     "output_type": "stream",
     "text": [
      "So it sounds like you drive a 2014 honda fit with 4 doors that seats 5\n"
     ]
    }
   ],
   "source": [
    "\n",
    "class Car:\n",
    "    wheels = 4\n",
    "    windshield = True\n",
    "\n",
    "    def __init__(self, make, model, color):\n",
    "        self.make = make\n",
    "        self.model = model\n",
    "        self.color = color\n",
    "\n",
    "    def add_details(self):\n",
    "        self.year = input(\"What year was your car made? \")\n",
    "        self.doors = input(\"How many doors on it? \")\n",
    "        self.seats = input(\"and how many butts can go in it? \")\n",
    "        print(f\"So it sounds like you drive a {self.year} {self.make} {self.model} with {self.doors} doors that seats {self.seats}\")\n",
    "\n",
    "my_car = Car('honda', 'fit', 'white')\n",
    "my_car.add_details()"
   ]
  },
  {
   "attachments": {},
   "cell_type": "markdown",
   "metadata": {},
   "source": [
    "### Class Inheritance"
   ]
  },
  {
   "attachments": {},
   "cell_type": "markdown",
   "metadata": {},
   "source": [
    "When we program in OOP(Object Oriented Programming), we create classes that encompass the entirety of a group or populous. For example, car. Cars come in many shapes and forms, however, we are generalizing each into a class named car, based off of attributes and methods that are similar. What happens when we have something that is technically a car, but is so unique, it should have it's own class, with it's own attributes and methods, yet still retain information that it is a car?\n",
    "\n",
    "This is where inheritance comes into play. Just like how we inherit features and attributes from our parents (skin tone, eye shape, body composition), we can have classes inherit from one another. When we talk about inheritance, we typically talk about a child class and a parent class, where the parent class is the class giving attributes and the child class is the one inheriting those attributes.\n",
    "\n",
    "There are multiple types of inheritance:\n",
    "\n",
    "* **Single Inheritance**\n",
    "    * One child-class inherits the features of one parent-class\n",
    "    \n",
    "    ![](https://www.softwaretestinghelp.com/wp-content/qa/uploads/2019/06/Single-inheritance.png)"
   ]
  },
  {
   "cell_type": "code",
   "execution_count": null,
   "metadata": {},
   "outputs": [],
   "source": []
  },
  {
   "attachments": {},
   "cell_type": "markdown",
   "metadata": {},
   "source": [
    "* **Multiple Inheritance**\n",
    "    * One child-class inherits from from multiple parent-classes\n",
    "\n",
    "    ![](https://media.geeksforgeeks.org/wp-content/uploads/sc1-1.png)"
   ]
  },
  {
   "cell_type": "code",
   "execution_count": null,
   "metadata": {},
   "outputs": [],
   "source": [
    "\n",
    "        "
   ]
  },
  {
   "attachments": {},
   "cell_type": "markdown",
   "metadata": {},
   "source": [
    "* **Multi-level Inheritance**\n",
    "    * A base class provides inheritance to a parent class, which provides inheritance to a child class, just like lineage is passed down from generation to generation\n",
    "    * This allows the child class to be derived of the base, without ever accessing the base class.\n",
    "\n",
    "     ![](https://upload.wikimedia.org/wikipedia/en/0/0e/Multilevel_Inheritance.jpg)"
   ]
  },
  {
   "cell_type": "code",
   "execution_count": null,
   "metadata": {},
   "outputs": [],
   "source": []
  }
 ],
 "metadata": {
  "colab": {
   "provenance": [
    {
     "file_id": "1wDmopKqYDjbH4FtK1wEWVsTIdqRGRJYq",
     "timestamp": 1675696515120
    }
   ]
  },
  "kernelspec": {
   "display_name": "Python 3 (ipykernel)",
   "language": "python",
   "name": "python3"
  },
  "language_info": {
   "codemirror_mode": {
    "name": "ipython",
    "version": 3
   },
   "file_extension": ".py",
   "mimetype": "text/x-python",
   "name": "python",
   "nbconvert_exporter": "python",
   "pygments_lexer": "ipython3",
   "version": "3.11.5"
  },
  "vscode": {
   "interpreter": {
    "hash": "26de051ba29f2982a8de78e945f0abaf191376122a1563185a90213a26c5da77"
   }
  }
 },
 "nbformat": 4,
 "nbformat_minor": 1
}
