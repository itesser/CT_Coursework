{
 "cells": [
  {
   "attachments": {},
   "cell_type": "markdown",
   "metadata": {},
   "source": [
    "# Coding Temple's Data Analytics Course\n",
    "---\n",
    "## Python 1: Assignment 2\n",
    "---"
   ]
  },
  {
   "attachments": {},
   "cell_type": "markdown",
   "metadata": {},
   "source": [
    "### **Task 1: List Comprehension**\n",
    "Given a list as a parameter, write a function named `less_than_10`, that uses list comprehension to returns the input list with all numbers less than 10."
   ]
  },
  {
   "cell_type": "code",
   "execution_count": 1,
   "metadata": {},
   "outputs": [
    {
     "name": "stdout",
     "output_type": "stream",
     "text": [
      "[4, 7, 9, 5]\n"
     ]
    }
   ],
   "source": [
    "def less_than_10(list):\n",
    "    '''Take a list and return a list of the numbers under 10'''\n",
    "    try:\n",
    "        return [x for x in list if x < 10]\n",
    "    except:\n",
    "        return \"I'm sorry, I didn't recognize that input as a list of numbers\"\n"
   ]
  },
  {
   "attachments": {},
   "cell_type": "markdown",
   "metadata": {},
   "source": [
    "### **Task 1 Testing**\n",
    "This cell is to test your task 1"
   ]
  },
  {
   "cell_type": "code",
   "execution_count": 2,
   "metadata": {},
   "outputs": [],
   "source": [
    "# DO NOT EDIT THIS CELL\n",
    "a = [1,2,5,9,55,781,25,478,15,7,99]\n",
    "a_test = [1,2,5,9,7]\n",
    "assert less_than_10(a) == a_test, 'Double check that your function is working properly!'"
   ]
  },
  {
   "attachments": {},
   "cell_type": "markdown",
   "metadata": {},
   "source": [
    "### **Task 2: Merge**\n",
    "Write a function named `merge_lists` that takes two seperate lists as arguments and returns the two lists merged together AND sorted."
   ]
  },
  {
   "cell_type": "code",
   "execution_count": 6,
   "metadata": {},
   "outputs": [],
   "source": [
    "def merge_lists(list_a, list_b):\n",
    "    '''Concatenates two input lists and returns a single list of all values, sorted'''\n",
    "    try:\n",
    "        return sorted(list_a+list_b)\n",
    "    except:\n",
    "        return \"Error evaluating your input. Please try again with exactly two lists of all numbers or all strings\"\n"
   ]
  },
  {
   "attachments": {},
   "cell_type": "markdown",
   "metadata": {},
   "source": [
    "### **Task 2 Testing**\n",
    "This cell is to test your task 2"
   ]
  },
  {
   "cell_type": "code",
   "execution_count": 7,
   "metadata": {},
   "outputs": [],
   "source": [
    "l_1 = [1,5,4]\n",
    "l_2 = [2,6,3]\n",
    "answer = [1,2,3,4,5,6]\n",
    "assert merge_lists(l_1, l_2) == answer, 'Double Check your function is performing properly!'"
   ]
  },
  {
   "attachments": {},
   "cell_type": "markdown",
   "metadata": {},
   "source": [
    "### **Task 3.1: List Creation**\n",
    "Create a three seperate lists. Save these lists as:\n",
    "* `first_names`: List of 10 first names\n",
    "* `middle_names`: List of 10 middle names\n",
    "* `last_names`: List of 10 last names"
   ]
  },
  {
   "cell_type": "code",
   "execution_count": 15,
   "metadata": {},
   "outputs": [],
   "source": [
    "first_names = ['Sandra', 'Blake', 'Amanda', 'Jack', 'Kal', 'Mo', 'Kim', 'Lydia', 'Taylor', 'Ben']\n",
    "middle_names = ['Jasper', 'Daisy', 'Adam', 'Mable', 'Tyler', 'Rose', 'Tim', 'Faith', 'Mitchell', 'Fern']\n",
    "last_names = ['Savage', 'Banner', 'Golka', 'Lawson', 'Moynes', 'Armstrong', 'Morris', 'Thorne', 'Yu', 'Malki']"
   ]
  },
  {
   "attachments": {},
   "cell_type": "markdown",
   "metadata": {},
   "source": [
    "### **Task 3.2: Range Function**\n",
    "Using the three lists you created in the last task, build a function named `name_generator` which takes in each of these lists as an input and performs the following:\n",
    "\n",
    "* Iterates through each list using a range\n",
    "* Creates a `full_name` variable, which has a first, middle, and last name\n",
    "* Saves the `full_name` to the list `full_names`\n",
    "* Returns the `full_names` list"
   ]
  },
  {
   "cell_type": "code",
   "execution_count": 16,
   "metadata": {},
   "outputs": [
    {
     "name": "stdout",
     "output_type": "stream",
     "text": [
      "['Sandra Jasper Savage', 'Blake Daisy Banner', 'Amanda Adam Golka', 'Jack Mable Lawson', 'Kal Tyler Moynes', 'Mo Rose Armstrong', 'Kim Tim Morris', 'Lydia Faith Thorne', 'Taylor Mitchell Yu', 'Ben Fern Malki']\n"
     ]
    }
   ],
   "source": [
    "def name_generator(first, middle, last):\n",
    "    '''Generates a list of three-part-names from three lists of names'''\n",
    "    try:\n",
    "        len(first) == len(middle) and len(first) == len(last)\n",
    "    except:\n",
    "        return \"Name lists must be the same lengths,\"\n",
    "    full_names = []\n",
    "    for i in range(len(first)):\n",
    "        name = first[i] + \" \" + middle[i] + \" \" + last[i]\n",
    "        full_names.append(name.title())\n",
    "    return full_names\n",
    "\n",
    "\n",
    "def name_generator2(first, middle, last):\n",
    "    '''\n",
    "        Input: 3 lists of names \n",
    "        Output: 1 list of 3-part names\n",
    "        Note: Stops when any one list of names runs out.\n",
    "    '''\n",
    "    return [ f + \" \" + m + \" \" + l for f, m, l in zip(first, middle, last)]\n",
    "\n",
    "print(name_generator2(first_names, middle_names, last_names))"
   ]
  },
  {
   "attachments": {},
   "cell_type": "markdown",
   "metadata": {},
   "source": [
    "### **Task 3 Testing**\n",
    "This cell is to test your task 3"
   ]
  },
  {
   "cell_type": "code",
   "execution_count": 11,
   "metadata": {},
   "outputs": [],
   "source": [
    "# DO NOT EDIT THIS CELL\n",
    "first = ['Alex', 'Brandon', 'Nick']\n",
    "middle = ['The Rock', 'The Paper', 'The Scissors']\n",
    "last = ['Lucchesi', 'Apol', 'Fuentes']\n",
    "answer = ['Alex The Rock Lucchesi','Brandon The Paper Apol','Nick The Scissors Fuentes']\n",
    "assert name_generator(first,middle,last) == answer, 'Double check that your function is performing the way it is supposed to!'"
   ]
  },
  {
   "attachments": {},
   "cell_type": "markdown",
   "metadata": {},
   "source": [
    "### **Task 4: User Functions**\n",
    "For this task, you will create a function named `user_input` which:\n",
    "* Asks a user to input their favorite activity or type 'n'\n",
    "* Repeats until the user types 'n'\n",
    "* Stores all user inputs to a list\n",
    "* Returns that list if a print statement when user types 'n'"
   ]
  },
  {
   "cell_type": "code",
   "execution_count": 12,
   "metadata": {},
   "outputs": [],
   "source": [
    "def user_input():\n",
    "    print(\"\"\"\n",
    "        Welcome to the Memory Bank!\n",
    "        Please submit the names of things you like to do.\n",
    "        When you are done, press 'n' to finish and review your deposit.\n",
    "        \"\"\")\n",
    "    play_list = []\n",
    "    play = input('Enter the name of an enjoyable pasttime: ')\n",
    "    while True:    \n",
    "        if play.lower() == 'n':\n",
    "            return play_list\n",
    "        else:\n",
    "            play_list.append(play)\n",
    "            play = input('Got any others? ')\n",
    "\n",
    "print(user_input())"
   ]
  }
 ],
 "metadata": {
  "kernelspec": {
   "display_name": "Python 3",
   "language": "python",
   "name": "python3"
  },
  "language_info": {
   "codemirror_mode": {
    "name": "ipython",
    "version": 3
   },
   "file_extension": ".py",
   "mimetype": "text/x-python",
   "name": "python",
   "nbconvert_exporter": "python",
   "pygments_lexer": "ipython3",
   "version": "3.11.5"
  },
  "orig_nbformat": 4,
  "vscode": {
   "interpreter": {
    "hash": "26de051ba29f2982a8de78e945f0abaf191376122a1563185a90213a26c5da77"
   }
  }
 },
 "nbformat": 4,
 "nbformat_minor": 2
}
