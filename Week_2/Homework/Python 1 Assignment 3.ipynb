{
 "cells": [
  {
   "attachments": {},
   "cell_type": "markdown",
   "metadata": {},
   "source": [
    "# Coding Temple's Data Analytics Program\n",
    "---\n",
    "## Python 1 Assignment 3\n",
    "---"
   ]
  },
  {
   "attachments": {},
   "cell_type": "markdown",
   "metadata": {},
   "source": [
    "### **Task 1: Build a Shopping Cart**\n",
    "**You can use either lists or dictionaries. The program should have the following capabilites:**\n",
    "* Takes a string as an input\n",
    "* Stores user input in a dictionary or list\n",
    "* Users should be able to:\n",
    "    * Add Items\n",
    "    * Delete Items\n",
    "    * See current shopping cart\n",
    "* The program should loop until user 'quits'\n",
    "* Upon quitting the program, print out all items in the user's list"
   ]
  },
  {
   "cell_type": "code",
   "execution_count": 1,
   "metadata": {},
   "outputs": [
    {
     "name": "stdout",
     "output_type": "stream",
     "text": [
      "Welcome to Meta-Mart! Buy anything! Even several Moons!\n",
      "\n",
      "    Here are my services:\n",
      "    [A]dd items to cart\n",
      "    [V]iew cart\n",
      "    [E]dit cart qty\n",
      "    [D]ump everything from cart and start over\n",
      "    [P]urchase cart contents\n",
      "    [Q]uit\n",
      "    \n",
      "Bye! Come again soon!\n"
     ]
    }
   ],
   "source": [
    "from IPython.display import clear_output\n",
    "\n",
    "import cart\n",
    "\n",
    "cart.meta_mart()\n",
    "\n",
    "# for the best experience, try visit_metamart.py"
   ]
  },
  {
   "attachments": {},
   "cell_type": "markdown",
   "metadata": {},
   "source": [
    "### **Task 2: Create a Module and Import it**\n",
    "Create a Module in VS Code and import it into a Notebook. Use each of the functions you build in your module\n",
    "\n",
    "**Your module should have the following capabilities:**\n",
    "* Has a function to calculate the square footage of a house\n",
    "* Has a function to calculate the circumference of a circle\n",
    "* Has a function to change feet to inches"
   ]
  },
  {
   "cell_type": "code",
   "execution_count": 2,
   "metadata": {},
   "outputs": [
    {
     "name": "stdout",
     "output_type": "stream",
     "text": [
      "432.0\n",
      "12.566\n",
      "60\n"
     ]
    }
   ],
   "source": [
    "import home_planner as hp\n",
    "\n",
    "print(hp.home_sqfts(3))\n",
    "\n",
    "print(hp.hole_measure(4, False))\n",
    "\n",
    "print(hp.dodecameter(5))\n",
    "\n"
   ]
  },
  {
   "attachments": {},
   "cell_type": "markdown",
   "metadata": {},
   "source": [
    "### **Task 3.1: Lists**\n",
    "Create 4 lists. Two of these lists should be keys, two of these lists should be values"
   ]
  },
  {
   "cell_type": "code",
   "execution_count": 3,
   "metadata": {},
   "outputs": [],
   "source": [
    "skeleton_key = ['mouse', 'snail', 'bird', 'spider', 'shark']\n",
    "music_key = ['violin', 'oboe', 'tuba']\n",
    "skeleton_value = ['tibia', 'skull', 'scapula', 'patella', 'falanges']\n",
    "music_value = ['G', 'C', 'A', 'F#']"
   ]
  },
  {
   "attachments": {},
   "cell_type": "markdown",
   "metadata": {},
   "source": [
    "### **Task 3.2: Create a function that converts two lists into a dictionary, then merges two dictionaries into one.**\n",
    "\n",
    "Using your 4 lists, create a function which combines the keys lists with the values lists into a dictionary, then merges and returns the two dictionaries together."
   ]
  },
  {
   "cell_type": "code",
   "execution_count": 9,
   "metadata": {},
   "outputs": [
    {
     "name": "stdout",
     "output_type": "stream",
     "text": [
      "{'violin': 'G', 'oboe': 'C', 'tuba': 'A', 'mouse': 'tibia', 'snail': 'skull', 'bird': 'scapula', 'spider': 'patella', 'shark': 'falanges'}\n"
     ]
    }
   ],
   "source": [
    "def make_dict(k_1, k_2, v_1, v_2):\n",
    "    dict_1 = {k_1[i]:v_1[i] for i in range(len(k_1))}\n",
    "    dict_2 = {k_2[i]:v_2[i] for i in range(len(k_2))}\n",
    "    dict_1.update(dict_2)\n",
    "    return dict_1\n",
    "\n",
    "print(make_dict(music_key, skeleton_key, music_value, skeleton_value))\n"
   ]
  }
 ],
 "metadata": {
  "kernelspec": {
   "display_name": "Python 3",
   "language": "python",
   "name": "python3"
  },
  "language_info": {
   "codemirror_mode": {
    "name": "ipython",
    "version": 3
   },
   "file_extension": ".py",
   "mimetype": "text/x-python",
   "name": "python",
   "nbconvert_exporter": "python",
   "pygments_lexer": "ipython3",
   "version": "3.11.4"
  },
  "orig_nbformat": 4,
  "vscode": {
   "interpreter": {
    "hash": "26de051ba29f2982a8de78e945f0abaf191376122a1563185a90213a26c5da77"
   }
  }
 },
 "nbformat": 4,
 "nbformat_minor": 2
}
