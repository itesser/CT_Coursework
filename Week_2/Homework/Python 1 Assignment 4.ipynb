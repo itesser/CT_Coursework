{
 "cells": [
  {
   "attachments": {},
   "cell_type": "markdown",
   "metadata": {},
   "source": [
    "# Coding Temple's Data Analytics Program\n",
    "---\n",
    "## Python Basics Assignment 4\n",
    "---"
   ]
  },
  {
   "attachments": {},
   "cell_type": "markdown",
   "metadata": {},
   "source": [
    "### **Task 1: Update Shopping Cart**\n",
    "Using the shopping cart you created yesterday as a blueprint, create a shopping cart using object-oriented programming. This shopping cart should maintain all functionality that you currently have in your blueprint."
   ]
  },
  {
   "cell_type": "code",
   "execution_count": 2,
   "metadata": {},
   "outputs": [
    {
     "name": "stdout",
     "output_type": "stream",
     "text": [
      "Welcome to Meta-Mart, Kevin! Buy anything! Even several Moons!\n",
      "\n",
      "        Here are my services:\n",
      "        [A]dd items to cart\n",
      "        [V]iew cart\n",
      "        [E]dit cart qty\n",
      "        [D]ump everything from cart and start over\n",
      "        [P]urchase cart contents\n",
      "        [Q]uit\n",
      "        \n",
      "FYI, each limes costs $258.64\n",
      "currently in your cart: \n",
      "limes\n",
      "limes qty changed to 1\n",
      "1: 1 limes - $258.64 each ($258.64)\n",
      "\n",
      "$258.64 has been removed from your bank account, Kevin.\n",
      "\n",
      "Your item(s) are on their way.\n",
      "(don't worry, we know where you live)\n",
      "\n",
      "Thanks for your custom! Come again soon!\n",
      "            \n"
     ]
    }
   ],
   "source": [
    "# Alternately: classy_market.py\n",
    "\n",
    "import classy_cart\n",
    "\n",
    "customer = input(\"oh hi there, I was about to open shop. What's your name? \")\n",
    "\n",
    "daily_shop = classy_cart.MetaMart(customer)\n",
    "\n",
    "daily_shop.open_metamart()\n"
   ]
  },
  {
   "attachments": {},
   "cell_type": "markdown",
   "metadata": {},
   "source": [
    "### **Task 2: String Class**\n",
    "Write a class which has the following two methods:\n",
    "* `get_string`: Accepts a string input from the user\n",
    "* `print_string`: Prints the string all in upper-case"
   ]
  },
  {
   "cell_type": "code",
   "execution_count": 1,
   "metadata": {},
   "outputs": [
    {
     "name": "stdout",
     "output_type": "stream",
     "text": [
      "MUGEN IS SO CUTE\n"
     ]
    }
   ],
   "source": [
    "class BigString:\n",
    "    \n",
    "    def get_string(self):\n",
    "        self.basic_string = input(\"what text would you like to store? \")\n",
    "\n",
    "    def print_string(self):\n",
    "        print(self.basic_string.upper())\n",
    "\n",
    "words = BigString()\n",
    "\n",
    "words.get_string()\n",
    "words.print_string()\n",
    "    "
   ]
  },
  {
   "attachments": {},
   "cell_type": "markdown",
   "metadata": {},
   "source": [
    "### **Task 3: Activities**\n",
    "Create a class that depicts your favorite activity. Add in attributes that are associated with that activity in you `__init__` call. Also, create three functions that are associated with the activity.\n",
    "\n",
    "**Example:**\n",
    "If I chose football, I may have a FootballPlayer class with attributes such as:\n",
    "* `self.speed`\n",
    "* `self.strength`\n",
    "* `self.position`\n",
    "\n",
    "and methods such as:\n",
    "* `def pass_ball`\n",
    "* `def run`\n",
    "* `def faster_than_x`"
   ]
  },
  {
   "cell_type": "code",
   "execution_count": 14,
   "metadata": {},
   "outputs": [
    {
     "name": "stdout",
     "output_type": "stream",
     "text": [
      "Hi, Sid, let's build out your profile.\n"
     ]
    },
    {
     "data": {
      "text/plain": [
       "Sid has been climbing for 8 years and is a competent climber who is allowed to lead-belay up to 5.9"
      ]
     },
     "execution_count": 14,
     "metadata": {},
     "output_type": "execute_result"
    }
   ],
   "source": [
    "class RockClimber:\n",
    "    def __init__(self, name):\n",
    "        '''Takes a name input and asks questions of the user to fill out object attributes.\n",
    "        Attributes added (suggested values in brackets):\n",
    "        Years Experience [5]\n",
    "        Personal Best(pb) ['5.9']\n",
    "        Level [6]\n",
    "        Lead Belay Certified [Yes]\n",
    "        ^ becomes a True/False value\n",
    "        '''\n",
    "        self.name = name\n",
    "        print(f\"Hi, {self.name}, let's build out your profile.\")\n",
    "        self.years_experience = input(\"How many years have you been climbing?\")\n",
    "        self.pb = input(\"What's the rating of your best climb?\")\n",
    "        self.level = int(input(\"On a scale of 1 (gumby) to 20 (Alex Honnold), what's your climbing level? \"))\n",
    "        self.xp = 0\n",
    "        lead_belay = input(\"Are you certified to lead belay? [Y/N] \")\n",
    "        if lead_belay[0].lower() == 'y':\n",
    "            self.lead_cert = True\n",
    "        else:\n",
    "            self.lead_cert = False\n",
    "\n",
    "    def __repr__(self):\n",
    "        ''' Formats some object attributes into a string'''\n",
    "        if self.lead_cert == True:\n",
    "            ld = \"is\"\n",
    "        else:\n",
    "            ld = \"is not\"\n",
    "        if self.level <= 5:\n",
    "            rank = \"beginner\"\n",
    "        elif self.level <= 10:\n",
    "            rank = \"competent\"\n",
    "        elif self.level <= 15:\n",
    "            rank = \"very good\"\n",
    "        else:\n",
    "            rank = \"expert\"\n",
    "        return f\"{self.name} has been climbing for {self.years_experience} years and is a {rank} climber who climbs up to {self.pb} and {ld} allowed to lead-belay\"\n",
    "    \n",
    "    def climbs_today(self, routes: int):\n",
    "        '''translates the number of routes climbed (today) into experience points which accumulate in the user profile\n",
    "        if accumulated experience points reach 1000, the profile's level increases by 1, and xp is reduced by 1000. \n",
    "        '''\n",
    "        self.xp += int(routes) * 10\n",
    "        if self.xp > 1000:\n",
    "            print(f\"You've been climbing a lot! we've bummped your level up from {self.level} to {self.level+1}!\")\n",
    "            self.level += 1\n",
    "            self.xp -= 1000\n",
    "\n",
    "    def best_today(self, project):\n",
    "        '''Calculates if the inputted route is better than the personal best saved in the profile.\n",
    "        Method is capable of recognizing that 5.10 is harder than 5.9 and that 5.10c is harder than 5.10a\n",
    "        '''\n",
    "        verify = [self.pb, project]\n",
    "        for i in range(len(verify)):\n",
    "            verify[i] = verify[i].strip('abcde').replace('.','')\n",
    "        if int(verify[1]) > int(verify[0]) or ord(project[-1:]) > ord(self.pb[-1:]):\n",
    "            self.pb = project\n",
    "\n",
    "\n",
    "sid = RockClimber(\"Sid\") \n",
    "\n",
    "# 8\n",
    "# 5.9\n",
    "# 6\n",
    "# Yes\n",
    "\n",
    "\n",
    "sid"
   ]
  },
  {
   "attachments": {},
   "cell_type": "markdown",
   "metadata": {},
   "source": [
    "### **Task 4: Test Your Class!**\n",
    "Now that you created your class, let's create an instance of your class. In the cell below, instantiate a Class Object, then test each of your class methods on that object."
   ]
  },
  {
   "cell_type": "code",
   "execution_count": 15,
   "metadata": {},
   "outputs": [
    {
     "data": {
      "text/plain": [
       "Sid has been climbing for 8 years and is a competent climber who is allowed to lead-belay up to 5.10"
      ]
     },
     "execution_count": 15,
     "metadata": {},
     "output_type": "execute_result"
    }
   ],
   "source": [
    "# Sid object initialized in previous codeblock to simplify testing of best_today method\n",
    "\n",
    "sid.climbs_today(6)\n",
    "sid.best_today('5.10')\n",
    "\n",
    "sid"
   ]
  }
 ],
 "metadata": {
  "kernelspec": {
   "display_name": "Python 3",
   "language": "python",
   "name": "python3"
  },
  "language_info": {
   "codemirror_mode": {
    "name": "ipython",
    "version": 3
   },
   "file_extension": ".py",
   "mimetype": "text/x-python",
   "name": "python",
   "nbconvert_exporter": "python",
   "pygments_lexer": "ipython3",
   "version": "3.11.4"
  },
  "orig_nbformat": 4,
  "vscode": {
   "interpreter": {
    "hash": "26de051ba29f2982a8de78e945f0abaf191376122a1563185a90213a26c5da77"
   }
  }
 },
 "nbformat": 4,
 "nbformat_minor": 2
}
