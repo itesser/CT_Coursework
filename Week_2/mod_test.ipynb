{
 "cells": [
  {
   "cell_type": "code",
   "execution_count": 3,
   "metadata": {},
   "outputs": [
    {
     "name": "stdout",
     "output_type": "stream",
     "text": [
      "10\n",
      "[3, 9, 15, 21, 27, 33, 39]\n",
      "13\n",
      "[24, 61, 4, 35, 32, 83, 38, 33, 40, 20]\n",
      "10\n"
     ]
    }
   ],
   "source": [
    "import sample_mods\n",
    "\n",
    "print(sample_mods.calc_len([14, 19, 7, 13, 19, 6, 4, 19, 16, 19]))\n",
    "\n",
    "\n",
    "print(sample_mods.custom_range(40, 3, 6))\n",
    "\n",
    "print(sample_mods.calc_len([24, 61, 4, 35, 32, 83, 38, 33, 40, 24, 40, 40, 20]))\n",
    "print(sample_mods.make_set([24, 61, 4, 35, 32, 83, 38, 33, 40, 24, 40, 40, 20]))\n",
    "print(sample_mods.calc_len(sample_mods.make_set([24, 61, 4, 35, 32, 83, 38, 33, 40, 24, 40, 40, 20])))"
   ]
  },
  {
   "cell_type": "code",
   "execution_count": null,
   "metadata": {},
   "outputs": [],
   "source": []
  }
 ],
 "metadata": {
  "kernelspec": {
   "display_name": "Python 3",
   "language": "python",
   "name": "python3"
  },
  "language_info": {
   "codemirror_mode": {
    "name": "ipython",
    "version": 3
   },
   "file_extension": ".py",
   "mimetype": "text/x-python",
   "name": "python",
   "nbconvert_exporter": "python",
   "pygments_lexer": "ipython3",
   "version": "3.11.5"
  },
  "orig_nbformat": 4
 },
 "nbformat": 4,
 "nbformat_minor": 2
}
