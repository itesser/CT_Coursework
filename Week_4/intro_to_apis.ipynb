{
 "cells": [
  {
   "attachments": {},
   "cell_type": "markdown",
   "metadata": {},
   "source": [
    "# Coding Temple's Data Analytics Program\n",
    "---\n",
    "## Intro to API's Assignment\n",
    "---\n",
    "### Problem 1:\n",
    "Check out this Pokemon API https://pokeapi.co/\n",
    "Use the requests package to connect to this API and get and store data for 5 different pokemon.\n",
    "Get the pokemons: name, atleast one ability's name, base_experience, and the URL for its sprite (an image that shows up on screen) for the 'front_shiny', attack base_state, hp base_stat, defense base_stat\n",
    "\n",
    "**BONUS POINTS IF YOU CAN POPULATE THE IMAGE!**"
   ]
  },
  {
   "cell_type": "code",
   "execution_count": 41,
   "metadata": {},
   "outputs": [],
   "source": [
    "import requests\n",
    "import pandas as pd\n",
    "from PIL import Image\n",
    "from io import BytesIO \n",
    "from random import randint"
   ]
  },
  {
   "cell_type": "code",
   "execution_count": 50,
   "metadata": {},
   "outputs": [
    {
     "name": "stdout",
     "output_type": "stream",
     "text": [
      "[{'Dragapult': {'species': 'Dragapult', 'abilities': ['clear-body', 'infiltrator', 'cursed-body'], 'base exp': 300, 'attack (base)': 120, 'defense (base)': 75, 'hp (base)': 88, 'has shiny': True, 'shiny sprite': 'https://raw.githubusercontent.com/PokeAPI/sprites/master/sprites/pokemon/shiny/887.png'}}, {'Gallade': {'species': 'Gallade', 'abilities': ['steadfast', 'sharpness', 'justified'], 'base exp': 259, 'attack (base)': 125, 'defense (base)': 65, 'hp (base)': 68, 'has shiny': True, 'shiny sprite': 'https://raw.githubusercontent.com/PokeAPI/sprites/master/sprites/pokemon/shiny/475.png'}}, {'Dachsbun': {'species': 'Dachsbun', 'abilities': ['well-baked-body', 'aroma-veil'], 'base exp': None, 'attack (base)': 80, 'defense (base)': 115, 'hp (base)': 57, 'has shiny': False, 'shiny sprite': 'https://raw.githubusercontent.com/PokeAPI/sprites/master/sprites/pokemon/927.png'}}, {'Lucario': {'species': 'Lucario', 'abilities': ['steadfast', 'inner-focus', 'justified'], 'base exp': 184, 'attack (base)': 110, 'defense (base)': 70, 'hp (base)': 70, 'has shiny': True, 'shiny sprite': 'https://raw.githubusercontent.com/PokeAPI/sprites/master/sprites/pokemon/shiny/448.png'}}, {'Coalossal': {'species': 'Coalossal', 'abilities': ['steam-engine', 'flame-body', 'flash-fire'], 'base exp': 255, 'attack (base)': 80, 'defense (base)': 120, 'hp (base)': 110, 'has shiny': True, 'shiny sprite': 'https://raw.githubusercontent.com/PokeAPI/sprites/master/sprites/pokemon/shiny/839.png'}}, {'Sableye': {'species': 'Sableye', 'abilities': ['keen-eye', 'stall', 'prankster'], 'base exp': 133, 'attack (base)': 75, 'defense (base)': 75, 'hp (base)': 50, 'has shiny': True, 'shiny sprite': 'https://raw.githubusercontent.com/PokeAPI/sprites/master/sprites/pokemon/shiny/302.png'}}]\n"
     ]
    }
   ],
   "source": [
    "\n",
    "my_team = ['Dragapult', 'Gallade', 'Dachsbun', 'Lucario', 'Coalossal', 'Sableye']\n",
    "\n",
    "def try_shiny(poke):\n",
    "    url = f'https://pokeapi.co/api/v2/pokemon/{poke.lower()}'\n",
    "    response = requests.get(url).json()\n",
    "    if response['sprites']['front_shiny']:\n",
    "        return [True, response['sprites']['front_shiny']]\n",
    "    else:\n",
    "        return [False, response['sprites']['front_default']]\n",
    "\n",
    "# def show_sprite(sprite_loc):\n",
    "#     img_response = requests.get(sprite_loc)\n",
    "#     return Image.open(BytesIO(img_response.content))\n",
    "\n",
    "\n",
    "def pokemon_profile(pokes):\n",
    "    team = []\n",
    "    for poke in pokes:\n",
    "        url = f'https://pokeapi.co/api/v2/pokemon/{poke.lower()}'\n",
    "        response = requests.get(url).json()\n",
    "        sprite_info = try_shiny(poke)\n",
    "        # display(show_sprite(sprite_info[1]))\n",
    "        poke_dict = {}\n",
    "        poke_dict[poke] = {\n",
    "            'species' : poke,\n",
    "            'abilities': [response['abilities'][i]['ability']['name'] for i in range(len(response['abilities']))],\n",
    "            'base exp': response['base_experience'],\n",
    "            'attack (base)': response['stats'][1]['base_stat'],\n",
    "            'defense (base)': response['stats'][2]['base_stat'],\n",
    "            'hp (base)': response['stats'][0]['base_stat'],\n",
    "            'has shiny': sprite_info[0],\n",
    "            'shiny sprite': sprite_info[1]\n",
    "        }\n",
    "        team.append(poke_dict)\n",
    "    return team\n",
    "\n",
    "print(pokemon_profile(my_team))\n"
   ]
  },
  {
   "attachments": {},
   "cell_type": "markdown",
   "metadata": {},
   "source": [
    "### Problem 2:\n",
    "\n",
    "I want to build the best Pokemon team I can and I need your help to do so! Using the API, build me a team of 6 pokemon who's base-stats are above 60. Return any additional information you think is needed to help understand why you chose that pokemon for the team!"
   ]
  },
  {
   "cell_type": "code",
   "execution_count": 48,
   "metadata": {},
   "outputs": [
    {
     "name": "stdout",
     "output_type": "stream",
     "text": [
      "['Roserade', 'Iron-Moth', 'Fezandipiti', 'Rayquaza', 'Kilowattrel', 'Iron-Jugulis']\n",
      "['grass', 'fire', 'poison', 'dragon', 'electric', 'dark']\n"
     ]
    }
   ],
   "source": [
    "def make_team():\n",
    "    \"\"\"\n",
    "    Input: None required\n",
    "    Output: Two lists (in a list)\n",
    "    - List 1: Six Pokemon (each from any generation), with all stats at 60 or above.\n",
    "    - List 2: Primary types of each Pokemon (secondary types not accounted for)\n",
    "    Method:\n",
    "    - Randomize a number between 1 and 1017 \n",
    "    -- rejected pokemon will have their numbers added to a \"rejected\" list\n",
    "    -- the random int is checked against the rejected list before querying API\n",
    "    - Pull the json of that pokemon\n",
    "    - look at its stat block, check that each stat is over 60\n",
    "    - if the stats check out, see if the pokemon's primary type matches the primary type of an existing team member\n",
    "    - If the type is new to the team:\n",
    "    -- add pokemon's species to the team list\n",
    "    -- add its type to have_type list\n",
    "    -- add its pokedex number to rejected (the rejected list is the first line of defense against repeat pokemon)\n",
    "    \"\"\"\n",
    "    team_list = []\n",
    "    have_types = []\n",
    "    rejected = []\n",
    "    while len(team_list) < 6:\n",
    "        valid_poke = True\n",
    "        try_poke = randint(1,1017)\n",
    "        if try_poke not in rejected:\n",
    "            url = f'https://pokeapi.co/api/v2/pokemon/{try_poke}'\n",
    "            trial_poke = requests.get(url).json()\n",
    "            if trial_poke['types'][0]['type']['name'] in have_types:\n",
    "                rejected.append(try_poke)\n",
    "                valid_poke = False\n",
    "            trial_statblock = trial_poke['stats']\n",
    "            while valid_poke:\n",
    "                for i in range(len(trial_statblock)):\n",
    "                    if trial_statblock[i]['base_stat'] < 60:\n",
    "                        rejected.append(try_poke)\n",
    "                        valid_poke = False\n",
    "                        break\n",
    "                break\n",
    "            if valid_poke == True:\n",
    "                team_list.append(trial_poke['species']['name'].title())\n",
    "                have_types.append(trial_poke['types'][0]['type']['name'])\n",
    "                rejected.append(try_poke)\n",
    "    return [team_list, have_types]\n",
    "\n",
    "your_team = make_team()\n",
    "print(your_team[0])\n",
    "print(your_team[1])\n"
   ]
  },
  {
   "attachments": {},
   "cell_type": "markdown",
   "metadata": {},
   "source": [
    "### Problem 3:\n",
    "\n",
    "Create a function that does the following:\n",
    "* Input: pokemon_name(user_defined) -> str\n",
    "* Output: list object containing a dictionary of values from the response object.\n",
    "* Please include the type, the most current raritey level, at least one held item, and all stats"
   ]
  },
  {
   "cell_type": "code",
   "execution_count": null,
   "metadata": {},
   "outputs": [],
   "source": [
    "def poke_profile(a_poke):\n",
    "    url = f'https://pokeapi.co/api/v2/pokemon/{a_poke.lower()}'\n",
    "    response = requests.get(url).json()\n",
    "    s_url = f'https://pokeapi.co/api/v2/pokemon-species/{a_poke.lower()}'\n",
    "    s_response = requests.get(s_url).json()\n",
    "    poke_deets = {}\n",
    "    poke_deets['name'] = a_poke.title()\n",
    "    poke_deets['types'] = [response['types'][i]['type']['name'] for i in range(len(response['types'])) ]\n",
    "    poke_deets['capture_rate'] = s_response['capture_rate']\n",
    "    poke_deets['held_items'] = [response['held_items'][i]['item']['name'] for i in range(len(response['held_items'])) ] \n",
    "    response_stat_block = response['stats']\n",
    "    poke_deets['stats'] = {response_stat_block[i]['stat']['name'] : response_stat_block[i]['base_stat'] for i in range(len(response_stat_block))}\n",
    "    return poke_deets\n",
    "    \n",
    "print(poke_profile('phantump'))\n",
    "\n",
    "\n",
    "\n"
   ]
  }
 ],
 "metadata": {
  "kernelspec": {
   "display_name": "Python 3",
   "language": "python",
   "name": "python3"
  },
  "language_info": {
   "codemirror_mode": {
    "name": "ipython",
    "version": 3
   },
   "file_extension": ".py",
   "mimetype": "text/x-python",
   "name": "python",
   "nbconvert_exporter": "python",
   "pygments_lexer": "ipython3",
   "version": "3.11.4"
  },
  "orig_nbformat": 4,
  "vscode": {
   "interpreter": {
    "hash": "26de051ba29f2982a8de78e945f0abaf191376122a1563185a90213a26c5da77"
   }
  }
 },
 "nbformat": 4,
 "nbformat_minor": 2
}
