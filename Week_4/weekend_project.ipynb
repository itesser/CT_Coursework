{
 "cells": [
  {
   "cell_type": "markdown",
   "metadata": {},
   "source": [
    "# Coding Temple's Data Analytics Program\n",
    "---\n",
    "## Python for DA: Weekend Project\n",
    "\n",
    "For this weekend project, you will be connecting to the [Disney API](https://disneyapi.dev/) to create an ETL pipeline. Your project should contain:\n",
    "\n",
    "- etl_pipeline.py\n",
    "    - Loads in data from the API object for all characters\n",
    "    - Stores required fields from the API to a DataFrame\n",
    "        - name\n",
    "        - all movies/shows the character appeared in\n",
    "        - any allies\n",
    "        - any enemies\n",
    "        - any park attractions\n",
    "    - Cleans the data\n",
    "    - Performs any transformations/feature engineering you wish to complete\n",
    "    - Stores the data in an ElephantSQL server\n",
    "    - Stores the data in a .csv file\n",
    "\n",
    "- notebook.ipynb\n",
    "    - Contains all cells you used to test your code before loading it into the pipeline\n",
    "    - Loads in the data from your .csv file\n",
    "    - Conduct EDA through data\n",
    "    - Conduct an analysis on your dataset!"
   ]
  },
  {
   "cell_type": "code",
   "execution_count": null,
   "metadata": {},
   "outputs": [],
   "source": []
  }
 ],
 "metadata": {
  "language_info": {
   "name": "python"
  },
  "orig_nbformat": 4
 },
 "nbformat": 4,
 "nbformat_minor": 2
}
