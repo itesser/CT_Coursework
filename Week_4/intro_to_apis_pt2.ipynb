{
 "cells": [
  {
   "attachments": {},
   "cell_type": "markdown",
   "metadata": {},
   "source": [
    "# Coding Temple's Data Analytics Program\n",
    "---\n",
    "## Intro to API's Assignment\n",
    "---\n",
    "### Problem 1:\n",
    "Check out this Pokemon API https://pokeapi.co/\n",
    "Use the requests package to connect to this API and get and store data for 5 different pokemon.\n",
    "Get the pokemons: name, atleast one ability's name, base_experience, and the URL for its sprite (an image that shows up on screen) for the 'front_shiny', attack base_state, hp base_stat, defense base_stat\n",
    "\n",
    "**BONUS POINTS IF YOU CAN POPULATE THE IMAGE!**"
   ]
  },
  {
   "cell_type": "code",
   "execution_count": 2,
   "metadata": {},
   "outputs": [],
   "source": [
    "import requests\n",
    "\n",
    "my_team = ['Dragapult', 'Gallade', 'Dachsbun', 'Lucario', 'Coalossal', 'Sableye']\n",
    "\n",
    "def pokemon_profile(poke):\n",
    "    url = f'https://pokeapi.co/api/v2/pokemon/{poke}'\n",
    "    response = requests.get(url)\n"
   ]
  },
  {
   "attachments": {},
   "cell_type": "markdown",
   "metadata": {},
   "source": [
    "### Problem 2:\n",
    "\n",
    "I want to build the best Pokemon team I can and I need your help to do so! Using the API, build me a team of 6 pokemon who's base-stats are above 60. Return any additional information you think is needed to help understand why you chose that pokemon for the team!"
   ]
  },
  {
   "cell_type": "code",
   "execution_count": null,
   "metadata": {},
   "outputs": [],
   "source": []
  },
  {
   "attachments": {},
   "cell_type": "markdown",
   "metadata": {},
   "source": [
    "### Problem 3:\n",
    "\n",
    "Create a function that does the following:\n",
    "* Input: pokemon_name(user_defined) -> str\n",
    "* Output: list object containing a dictionary of values from the response object.\n",
    "* Please include the type, the most current raritey level, at least one held item, and all stats"
   ]
  },
  {
   "cell_type": "code",
   "execution_count": 7,
   "metadata": {},
   "outputs": [
    {
     "name": "stdout",
     "output_type": "stream",
     "text": [
      "{'name': 'Phantump', 'types': ['ghost', 'grass'], 'capture_rate': 120, 'held_items': [], 'stats': {'hp': 43, 'attack': 70, 'defense': 48, 'special-attack': 50, 'special-defense': 60, 'speed': 38}}\n"
     ]
    }
   ],
   "source": [
    "def poke_profile(a_poke):\n",
    "    url = f'https://pokeapi.co/api/v2/pokemon/{a_poke.lower()}'\n",
    "    response = requests.get(url).json()\n",
    "    s_url = f'https://pokeapi.co/api/v2/pokemon-species/{a_poke.lower()}'\n",
    "    s_response = requests.get(s_url).json()\n",
    "    poke_deets = {}\n",
    "    poke_deets['name'] = a_poke.title()\n",
    "    poke_deets['types'] = [response['types'][i]['type']['name'] for i in range(len(response['types'])) ]\n",
    "    poke_deets['capture_rate'] = s_response['capture_rate']\n",
    "    poke_deets['held_items'] = [response['held_items'][i]['item']['name'] for i in range(len(response['held_items'])) ] \n",
    "    response_stat_block = response['stats']\n",
    "    poke_deets['stats'] = {response_stat_block[i]['stat']['name'] : response_stat_block[i]['base_stat'] for i in range(len(response_stat_block))}\n",
    "    return poke_deets\n",
    "    \n",
    "print(poke_profile('phantump'))\n"
   ]
  }
 ],
 "metadata": {
  "kernelspec": {
   "display_name": "Python 3",
   "language": "python",
   "name": "python3"
  },
  "language_info": {
   "codemirror_mode": {
    "name": "ipython",
    "version": 3
   },
   "file_extension": ".py",
   "mimetype": "text/x-python",
   "name": "python",
   "nbconvert_exporter": "python",
   "pygments_lexer": "ipython3",
   "version": "3.11.5"
  },
  "orig_nbformat": 4,
  "vscode": {
   "interpreter": {
    "hash": "26de051ba29f2982a8de78e945f0abaf191376122a1563185a90213a26c5da77"
   }
  }
 },
 "nbformat": 4,
 "nbformat_minor": 2
}
