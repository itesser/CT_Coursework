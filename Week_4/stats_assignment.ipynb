{
 "cells": [
  {
   "cell_type": "markdown",
   "metadata": {},
   "source": [
    "# Coding Temple's Data Analytics Program\n",
    "---\n",
    "## Python for Data Analytics: Stats Assignment"
   ]
  },
  {
   "cell_type": "markdown",
   "metadata": {},
   "source": [
    "For today's homework, you will be working with AB Testing Dataset. This data was scraped from a study conducted by Udemy. The study was to determine if there was a relationship with the number of clickthroughs and webtext that was displayed. \n",
    "\n",
    "Your goal is to analyze the data that was collected during this study and determine whether or not there is a relationship between the two variables."
   ]
  },
  {
   "cell_type": "markdown",
   "metadata": {},
   "source": [
    "### Task 1: Imports\n",
    "Import your data and your libraries needed to complete this assignment:"
   ]
  },
  {
   "cell_type": "code",
   "execution_count": 2,
   "metadata": {},
   "outputs": [
    {
     "name": "stdout",
     "output_type": "stream",
     "text": [
      "(690203, 4)\n",
      "Index(['Unnamed: 0', 'Pageview', 'Group', 'Click'], dtype='object')\n"
     ]
    }
   ],
   "source": [
    "import pandas as pd\n",
    "import seaborn as sns\n",
    "import matplotlib.pyplot as plt\n",
    "import numpy as np\n",
    "import scipy as stats\n",
    "\n",
    "data = pd.read_csv('ab_testing.csv')\n",
    "\n",
    "print(data.shape)\n",
    "print(data.columns)\n",
    "\n"
   ]
  },
  {
   "cell_type": "code",
   "execution_count": 3,
   "metadata": {},
   "outputs": [
    {
     "data": {
      "text/html": [
       "<div>\n",
       "<style scoped>\n",
       "    .dataframe tbody tr th:only-of-type {\n",
       "        vertical-align: middle;\n",
       "    }\n",
       "\n",
       "    .dataframe tbody tr th {\n",
       "        vertical-align: top;\n",
       "    }\n",
       "\n",
       "    .dataframe thead th {\n",
       "        text-align: right;\n",
       "    }\n",
       "</style>\n",
       "<table border=\"1\" class=\"dataframe\">\n",
       "  <thead>\n",
       "    <tr style=\"text-align: right;\">\n",
       "      <th></th>\n",
       "      <th>Unnamed: 0</th>\n",
       "      <th>Pageview</th>\n",
       "      <th>Group</th>\n",
       "      <th>Click</th>\n",
       "    </tr>\n",
       "  </thead>\n",
       "  <tbody>\n",
       "    <tr>\n",
       "      <th>0</th>\n",
       "      <td>0</td>\n",
       "      <td>0</td>\n",
       "      <td>Control</td>\n",
       "      <td>1</td>\n",
       "    </tr>\n",
       "    <tr>\n",
       "      <th>1</th>\n",
       "      <td>1</td>\n",
       "      <td>1</td>\n",
       "      <td>Control</td>\n",
       "      <td>1</td>\n",
       "    </tr>\n",
       "    <tr>\n",
       "      <th>2</th>\n",
       "      <td>2</td>\n",
       "      <td>2</td>\n",
       "      <td>Control</td>\n",
       "      <td>1</td>\n",
       "    </tr>\n",
       "    <tr>\n",
       "      <th>3</th>\n",
       "      <td>3</td>\n",
       "      <td>3</td>\n",
       "      <td>Control</td>\n",
       "      <td>1</td>\n",
       "    </tr>\n",
       "    <tr>\n",
       "      <th>4</th>\n",
       "      <td>4</td>\n",
       "      <td>4</td>\n",
       "      <td>Control</td>\n",
       "      <td>1</td>\n",
       "    </tr>\n",
       "    <tr>\n",
       "      <th>5</th>\n",
       "      <td>5</td>\n",
       "      <td>5</td>\n",
       "      <td>Control</td>\n",
       "      <td>1</td>\n",
       "    </tr>\n",
       "    <tr>\n",
       "      <th>6</th>\n",
       "      <td>6</td>\n",
       "      <td>6</td>\n",
       "      <td>Control</td>\n",
       "      <td>1</td>\n",
       "    </tr>\n",
       "    <tr>\n",
       "      <th>7</th>\n",
       "      <td>7</td>\n",
       "      <td>7</td>\n",
       "      <td>Control</td>\n",
       "      <td>1</td>\n",
       "    </tr>\n",
       "    <tr>\n",
       "      <th>8</th>\n",
       "      <td>8</td>\n",
       "      <td>8</td>\n",
       "      <td>Control</td>\n",
       "      <td>1</td>\n",
       "    </tr>\n",
       "    <tr>\n",
       "      <th>9</th>\n",
       "      <td>9</td>\n",
       "      <td>9</td>\n",
       "      <td>Control</td>\n",
       "      <td>1</td>\n",
       "    </tr>\n",
       "    <tr>\n",
       "      <th>10</th>\n",
       "      <td>10</td>\n",
       "      <td>10</td>\n",
       "      <td>Control</td>\n",
       "      <td>1</td>\n",
       "    </tr>\n",
       "    <tr>\n",
       "      <th>11</th>\n",
       "      <td>11</td>\n",
       "      <td>11</td>\n",
       "      <td>Control</td>\n",
       "      <td>1</td>\n",
       "    </tr>\n",
       "    <tr>\n",
       "      <th>12</th>\n",
       "      <td>12</td>\n",
       "      <td>12</td>\n",
       "      <td>Control</td>\n",
       "      <td>1</td>\n",
       "    </tr>\n",
       "    <tr>\n",
       "      <th>13</th>\n",
       "      <td>13</td>\n",
       "      <td>13</td>\n",
       "      <td>Control</td>\n",
       "      <td>1</td>\n",
       "    </tr>\n",
       "    <tr>\n",
       "      <th>14</th>\n",
       "      <td>14</td>\n",
       "      <td>14</td>\n",
       "      <td>Control</td>\n",
       "      <td>1</td>\n",
       "    </tr>\n",
       "    <tr>\n",
       "      <th>15</th>\n",
       "      <td>15</td>\n",
       "      <td>15</td>\n",
       "      <td>Control</td>\n",
       "      <td>1</td>\n",
       "    </tr>\n",
       "    <tr>\n",
       "      <th>16</th>\n",
       "      <td>16</td>\n",
       "      <td>16</td>\n",
       "      <td>Control</td>\n",
       "      <td>1</td>\n",
       "    </tr>\n",
       "    <tr>\n",
       "      <th>17</th>\n",
       "      <td>17</td>\n",
       "      <td>17</td>\n",
       "      <td>Control</td>\n",
       "      <td>1</td>\n",
       "    </tr>\n",
       "    <tr>\n",
       "      <th>18</th>\n",
       "      <td>18</td>\n",
       "      <td>18</td>\n",
       "      <td>Control</td>\n",
       "      <td>1</td>\n",
       "    </tr>\n",
       "    <tr>\n",
       "      <th>19</th>\n",
       "      <td>19</td>\n",
       "      <td>19</td>\n",
       "      <td>Control</td>\n",
       "      <td>1</td>\n",
       "    </tr>\n",
       "  </tbody>\n",
       "</table>\n",
       "</div>"
      ],
      "text/plain": [
       "    Unnamed: 0  Pageview    Group  Click\n",
       "0            0         0  Control      1\n",
       "1            1         1  Control      1\n",
       "2            2         2  Control      1\n",
       "3            3         3  Control      1\n",
       "4            4         4  Control      1\n",
       "5            5         5  Control      1\n",
       "6            6         6  Control      1\n",
       "7            7         7  Control      1\n",
       "8            8         8  Control      1\n",
       "9            9         9  Control      1\n",
       "10          10        10  Control      1\n",
       "11          11        11  Control      1\n",
       "12          12        12  Control      1\n",
       "13          13        13  Control      1\n",
       "14          14        14  Control      1\n",
       "15          15        15  Control      1\n",
       "16          16        16  Control      1\n",
       "17          17        17  Control      1\n",
       "18          18        18  Control      1\n",
       "19          19        19  Control      1"
      ]
     },
     "metadata": {},
     "output_type": "display_data"
    },
    {
     "data": {
      "text/html": [
       "<div>\n",
       "<style scoped>\n",
       "    .dataframe tbody tr th:only-of-type {\n",
       "        vertical-align: middle;\n",
       "    }\n",
       "\n",
       "    .dataframe tbody tr th {\n",
       "        vertical-align: top;\n",
       "    }\n",
       "\n",
       "    .dataframe thead th {\n",
       "        text-align: right;\n",
       "    }\n",
       "</style>\n",
       "<table border=\"1\" class=\"dataframe\">\n",
       "  <thead>\n",
       "    <tr style=\"text-align: right;\">\n",
       "      <th></th>\n",
       "      <th>Unnamed: 0</th>\n",
       "      <th>Pageview</th>\n",
       "      <th>Group</th>\n",
       "      <th>Click</th>\n",
       "    </tr>\n",
       "  </thead>\n",
       "  <tbody>\n",
       "    <tr>\n",
       "      <th>690183</th>\n",
       "      <td>690183</td>\n",
       "      <td>344640</td>\n",
       "      <td>Experiment</td>\n",
       "      <td>0</td>\n",
       "    </tr>\n",
       "    <tr>\n",
       "      <th>690184</th>\n",
       "      <td>690184</td>\n",
       "      <td>344641</td>\n",
       "      <td>Experiment</td>\n",
       "      <td>0</td>\n",
       "    </tr>\n",
       "    <tr>\n",
       "      <th>690185</th>\n",
       "      <td>690185</td>\n",
       "      <td>344642</td>\n",
       "      <td>Experiment</td>\n",
       "      <td>0</td>\n",
       "    </tr>\n",
       "    <tr>\n",
       "      <th>690186</th>\n",
       "      <td>690186</td>\n",
       "      <td>344643</td>\n",
       "      <td>Experiment</td>\n",
       "      <td>0</td>\n",
       "    </tr>\n",
       "    <tr>\n",
       "      <th>690187</th>\n",
       "      <td>690187</td>\n",
       "      <td>344644</td>\n",
       "      <td>Experiment</td>\n",
       "      <td>0</td>\n",
       "    </tr>\n",
       "    <tr>\n",
       "      <th>690188</th>\n",
       "      <td>690188</td>\n",
       "      <td>344645</td>\n",
       "      <td>Experiment</td>\n",
       "      <td>0</td>\n",
       "    </tr>\n",
       "    <tr>\n",
       "      <th>690189</th>\n",
       "      <td>690189</td>\n",
       "      <td>344646</td>\n",
       "      <td>Experiment</td>\n",
       "      <td>0</td>\n",
       "    </tr>\n",
       "    <tr>\n",
       "      <th>690190</th>\n",
       "      <td>690190</td>\n",
       "      <td>344647</td>\n",
       "      <td>Experiment</td>\n",
       "      <td>0</td>\n",
       "    </tr>\n",
       "    <tr>\n",
       "      <th>690191</th>\n",
       "      <td>690191</td>\n",
       "      <td>344648</td>\n",
       "      <td>Experiment</td>\n",
       "      <td>0</td>\n",
       "    </tr>\n",
       "    <tr>\n",
       "      <th>690192</th>\n",
       "      <td>690192</td>\n",
       "      <td>344649</td>\n",
       "      <td>Experiment</td>\n",
       "      <td>0</td>\n",
       "    </tr>\n",
       "    <tr>\n",
       "      <th>690193</th>\n",
       "      <td>690193</td>\n",
       "      <td>344650</td>\n",
       "      <td>Experiment</td>\n",
       "      <td>0</td>\n",
       "    </tr>\n",
       "    <tr>\n",
       "      <th>690194</th>\n",
       "      <td>690194</td>\n",
       "      <td>344651</td>\n",
       "      <td>Experiment</td>\n",
       "      <td>0</td>\n",
       "    </tr>\n",
       "    <tr>\n",
       "      <th>690195</th>\n",
       "      <td>690195</td>\n",
       "      <td>344652</td>\n",
       "      <td>Experiment</td>\n",
       "      <td>0</td>\n",
       "    </tr>\n",
       "    <tr>\n",
       "      <th>690196</th>\n",
       "      <td>690196</td>\n",
       "      <td>344653</td>\n",
       "      <td>Experiment</td>\n",
       "      <td>0</td>\n",
       "    </tr>\n",
       "    <tr>\n",
       "      <th>690197</th>\n",
       "      <td>690197</td>\n",
       "      <td>344654</td>\n",
       "      <td>Experiment</td>\n",
       "      <td>0</td>\n",
       "    </tr>\n",
       "    <tr>\n",
       "      <th>690198</th>\n",
       "      <td>690198</td>\n",
       "      <td>344655</td>\n",
       "      <td>Experiment</td>\n",
       "      <td>0</td>\n",
       "    </tr>\n",
       "    <tr>\n",
       "      <th>690199</th>\n",
       "      <td>690199</td>\n",
       "      <td>344656</td>\n",
       "      <td>Experiment</td>\n",
       "      <td>0</td>\n",
       "    </tr>\n",
       "    <tr>\n",
       "      <th>690200</th>\n",
       "      <td>690200</td>\n",
       "      <td>344657</td>\n",
       "      <td>Experiment</td>\n",
       "      <td>0</td>\n",
       "    </tr>\n",
       "    <tr>\n",
       "      <th>690201</th>\n",
       "      <td>690201</td>\n",
       "      <td>344658</td>\n",
       "      <td>Experiment</td>\n",
       "      <td>0</td>\n",
       "    </tr>\n",
       "    <tr>\n",
       "      <th>690202</th>\n",
       "      <td>690202</td>\n",
       "      <td>344659</td>\n",
       "      <td>Experiment</td>\n",
       "      <td>0</td>\n",
       "    </tr>\n",
       "  </tbody>\n",
       "</table>\n",
       "</div>"
      ],
      "text/plain": [
       "        Unnamed: 0  Pageview       Group  Click\n",
       "690183      690183    344640  Experiment      0\n",
       "690184      690184    344641  Experiment      0\n",
       "690185      690185    344642  Experiment      0\n",
       "690186      690186    344643  Experiment      0\n",
       "690187      690187    344644  Experiment      0\n",
       "690188      690188    344645  Experiment      0\n",
       "690189      690189    344646  Experiment      0\n",
       "690190      690190    344647  Experiment      0\n",
       "690191      690191    344648  Experiment      0\n",
       "690192      690192    344649  Experiment      0\n",
       "690193      690193    344650  Experiment      0\n",
       "690194      690194    344651  Experiment      0\n",
       "690195      690195    344652  Experiment      0\n",
       "690196      690196    344653  Experiment      0\n",
       "690197      690197    344654  Experiment      0\n",
       "690198      690198    344655  Experiment      0\n",
       "690199      690199    344656  Experiment      0\n",
       "690200      690200    344657  Experiment      0\n",
       "690201      690201    344658  Experiment      0\n",
       "690202      690202    344659  Experiment      0"
      ]
     },
     "execution_count": 3,
     "metadata": {},
     "output_type": "execute_result"
    }
   ],
   "source": [
    "display(data.head(20))\n",
    "data.tail(20)"
   ]
  },
  {
   "cell_type": "markdown",
   "metadata": {},
   "source": [
    "### Task 2: Creating Hypothesis\n",
    "\n",
    "Before you begin working with the data, formulate your null and alternative hypothesis in the markdown cell below:"
   ]
  },
  {
   "cell_type": "markdown",
   "metadata": {},
   "source": [
    "Null : There will be no difference in clickthrough between A and B groups\n",
    "\n",
    "Alternate : Thre is a difference in clickthrough rates between groups A and B"
   ]
  },
  {
   "cell_type": "markdown",
   "metadata": {},
   "source": [
    "### Task 3: Calculating Frequencies\n",
    "\n",
    "In this task, you will calculate your frequency and your relative frequency of the `group` column"
   ]
  },
  {
   "cell_type": "code",
   "execution_count": 12,
   "metadata": {},
   "outputs": [
    {
     "name": "stdout",
     "output_type": "stream",
     "text": [
      "Group Sizes\n"
     ]
    },
    {
     "data": {
      "text/plain": [
       "Group\n",
       "Control       345543\n",
       "Experiment    344660\n",
       "Name: count, dtype: int64"
      ]
     },
     "metadata": {},
     "output_type": "display_data"
    },
    {
     "name": "stdout",
     "output_type": "stream",
     "text": [
      "------\n",
      "Group Ratio\n"
     ]
    },
    {
     "data": {
      "text/plain": [
       "Group\n",
       "Control       50.06\n",
       "Experiment    49.94\n",
       "Name: proportion, dtype: float64"
      ]
     },
     "metadata": {},
     "output_type": "display_data"
    }
   ],
   "source": [
    "print('Group Sizes')\n",
    "display(data['Group'].value_counts())\n",
    "print('------')\n",
    "print('Group Ratio')\n",
    "display(round(data['Group'].value_counts(normalize=True)*100,2))"
   ]
  },
  {
   "cell_type": "markdown",
   "metadata": {},
   "source": [
    "Next, let's calculate the frequency and relative frequency of the `click` column:"
   ]
  },
  {
   "cell_type": "code",
   "execution_count": 11,
   "metadata": {},
   "outputs": [
    {
     "name": "stdout",
     "output_type": "stream",
     "text": [
      "No Click/Click counts\n"
     ]
    },
    {
     "data": {
      "text/plain": [
       "Click\n",
       "0    633500\n",
       "1     56703\n",
       "Name: count, dtype: int64"
      ]
     },
     "metadata": {},
     "output_type": "display_data"
    },
    {
     "name": "stdout",
     "output_type": "stream",
     "text": [
      "No Click/Click Frequency\n"
     ]
    },
    {
     "data": {
      "text/plain": [
       "Click\n",
       "0    91.78\n",
       "1     8.22\n",
       "Name: proportion, dtype: float64"
      ]
     },
     "metadata": {},
     "output_type": "display_data"
    }
   ],
   "source": [
    "print('No Click/Click counts')\n",
    "display(data['Click'].value_counts())\n",
    "print('----')\n",
    "print('No Click/Click Frequency')\n",
    "display(round(data['Click'].value_counts(normalize=True)*100,2))"
   ]
  },
  {
   "cell_type": "markdown",
   "metadata": {},
   "source": [
    "### Task 4a: \n",
    "\n",
    "Look at the joint distribution of the `group` and `click` columns and make an inference on if there is a relationship between the group and clicks"
   ]
  },
  {
   "cell_type": "code",
   "execution_count": 29,
   "metadata": {},
   "outputs": [
    {
     "data": {
      "text/html": [
       "<div>\n",
       "<style scoped>\n",
       "    .dataframe tbody tr th:only-of-type {\n",
       "        vertical-align: middle;\n",
       "    }\n",
       "\n",
       "    .dataframe tbody tr th {\n",
       "        vertical-align: top;\n",
       "    }\n",
       "\n",
       "    .dataframe thead th {\n",
       "        text-align: right;\n",
       "    }\n",
       "</style>\n",
       "<table border=\"1\" class=\"dataframe\">\n",
       "  <thead>\n",
       "    <tr style=\"text-align: right;\">\n",
       "      <th>Click</th>\n",
       "      <th>0</th>\n",
       "      <th>1</th>\n",
       "    </tr>\n",
       "    <tr>\n",
       "      <th>Group</th>\n",
       "      <th></th>\n",
       "      <th></th>\n",
       "    </tr>\n",
       "  </thead>\n",
       "  <tbody>\n",
       "    <tr>\n",
       "      <th>Control</th>\n",
       "      <td>45.95</td>\n",
       "      <td>4.11</td>\n",
       "    </tr>\n",
       "    <tr>\n",
       "      <th>Experiment</th>\n",
       "      <td>45.83</td>\n",
       "      <td>4.10</td>\n",
       "    </tr>\n",
       "  </tbody>\n",
       "</table>\n",
       "</div>"
      ],
      "text/plain": [
       "Click           0     1\n",
       "Group                  \n",
       "Control     45.95  4.11\n",
       "Experiment  45.83  4.10"
      ]
     },
     "metadata": {},
     "output_type": "display_data"
    },
    {
     "name": "stdout",
     "output_type": "stream",
     "text": [
      "Inference: No significant relationship between group and clicks\n"
     ]
    },
    {
     "data": {
      "image/png": "[encoded data removed]",
      "text/plain": [
       "<Figure size 600x600 with 3 Axes>"
      ]
     },
     "metadata": {},
     "output_type": "display_data"
    }
   ],
   "source": [
    "display(round(pd.crosstab(data.Group, data.Click, normalize =True)*100, 2))\n",
    "\n",
    "print('Inference: No significant relationship between group and clicks')\n",
    "\n",
    "sns.jointplot(data=data, x='Group', y='Click')\n",
    "plt.show()"
   ]
  },
  {
   "cell_type": "markdown",
   "metadata": {},
   "source": [
    "### Task 4b:\n",
    "\n",
    "Calculate the marginal distribution of the `group` and `click` variables:"
   ]
  },
  {
   "cell_type": "code",
   "execution_count": null,
   "metadata": {},
   "outputs": [],
   "source": []
  },
  {
   "cell_type": "markdown",
   "metadata": {},
   "source": [
    "### Task 4c:\n",
    "Calculate the conditional distribution of the `group` and `click` variables:"
   ]
  },
  {
   "cell_type": "code",
   "execution_count": null,
   "metadata": {},
   "outputs": [],
   "source": []
  },
  {
   "cell_type": "markdown",
   "metadata": {},
   "source": [
    "### Task 5:\n",
    "\n",
    "Perform a chi-squared test on your data. Interpret and communicate the results in a markdown cell below your code"
   ]
  },
  {
   "cell_type": "code",
   "execution_count": null,
   "metadata": {},
   "outputs": [],
   "source": []
  },
  {
   "cell_type": "markdown",
   "metadata": {},
   "source": []
  }
 ],
 "metadata": {
  "kernelspec": {
   "display_name": "Python 3",
   "language": "python",
   "name": "python3"
  },
  "language_info": {
   "codemirror_mode": {
    "name": "ipython",
    "version": 3
   },
   "file_extension": ".py",
   "mimetype": "text/x-python",
   "name": "python",
   "nbconvert_exporter": "python",
   "pygments_lexer": "ipython3",
   "version": "3.11.4"
  },
  "orig_nbformat": 4
 },
 "nbformat": 4,
 "nbformat_minor": 2
}
