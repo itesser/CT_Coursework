{
 "cells": [
  {
   "cell_type": "markdown",
   "metadata": {},
   "source": [
    "# Looks like some hoodlum plumber and his brother has been running around and damaging your stages again.\n",
    "# The pipes connecting your level's stages together need to be fixed before you receive any more complaints.\n",
    "# Pipes list is correct when each pipe after the first index is greater (+1) than the previous one, and that there is no duplicates.\n",
    "# Task\n",
    "# Given the a list of numbers, return a fixed list so that the values increment by 1 for each index from the minimum value up to the maximum value (both included).\n",
    "# Example\n",
    "# Input:  1,3,5,6,7,8 Output: 1,2,3,4,5,6,7,8"
   ]
  },
  {
   "cell_type": "code",
   "execution_count": 3,
   "metadata": {},
   "outputs": [
    {
     "name": "stdout",
     "output_type": "stream",
     "text": [
      "[1, 2, 3, 4, 5, 6, 7, 8]\n"
     ]
    }
   ],
   "source": [
    "# knowing the smallest and largest pipe numbers, return a list of all needed pipe numbers\n",
    "\n",
    "# sort incoming numbers\n",
    "# get smallest and largest numbers\n",
    "# return all numbers between smallest and largest (inclusive)\n",
    "\n",
    "def get_all_pipes(have_pipes):\n",
    "    have_pipes = sorted(have_pipes)\n",
    "    min_pipe = have_pipes[0]\n",
    "    max_pipe = have_pipes[-1]\n",
    "    all_pipes = [x for x in range(min_pipe,max_pipe+1)]\n",
    "    return all_pipes\n",
    "\n",
    "def get_all_pipes(have_pipes):\n",
    "    return [x for x in range(min(have_pipes), max(have_pipes)+1)]\n",
    "\n",
    "\n",
    "print(get_all_pipes([1,3,5,6,7,8]))"
   ]
  }
 ],
 "metadata": {
  "kernelspec": {
   "display_name": "Python 3",
   "language": "python",
   "name": "python3"
  },
  "language_info": {
   "codemirror_mode": {
    "name": "ipython",
    "version": 3
   },
   "file_extension": ".py",
   "mimetype": "text/x-python",
   "name": "python",
   "nbconvert_exporter": "python",
   "pygments_lexer": "ipython3",
   "version": "3.11.5"
  },
  "orig_nbformat": 4
 },
 "nbformat": 4,
 "nbformat_minor": 2
}
